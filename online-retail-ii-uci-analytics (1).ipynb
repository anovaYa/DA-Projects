{
 "cells": [
  {
   "cell_type": "markdown",
   "metadata": {},
   "source": [
    "# Online Retail II UCI\n",
    "\n",
    "This Online Retail II data set contains all the transactions occurring for a UK-based and registered, non-store online retail between 01/12/2009 and 09/12/2011.The company mainly sells unique all-occasion gift-ware. Many customers of the company are wholesalers.\n",
    "\n",
    "https://www.kaggle.com/datasets/mashlyn/online-retail-ii-uci"
   ]
  },
  {
   "cell_type": "markdown",
   "metadata": {},
   "source": [
    "## Loading the required libraries"
   ]
  },
  {
   "cell_type": "code",
   "execution_count": 17,
   "metadata": {
    "execution": {
     "iopub.execute_input": "2022-07-18T16:13:13.986126Z",
     "iopub.status.busy": "2022-07-18T16:13:13.985634Z",
     "iopub.status.idle": "2022-07-18T16:13:15.152109Z",
     "shell.execute_reply": "2022-07-18T16:13:15.150816Z",
     "shell.execute_reply.started": "2022-07-18T16:13:13.986033Z"
    }
   },
   "outputs": [],
   "source": [
    "import warnings \n",
    "warnings.filterwarnings('ignore')\n",
    "import pandas as pd\n",
    "import numpy as np\n",
    "import seaborn as sns\n",
    "from datetime import datetime as dt, timedelta\n",
    "import matplotlib.pyplot as plt\n",
    "%matplotlib inline"
   ]
  },
  {
   "cell_type": "markdown",
   "metadata": {},
   "source": [
    "## Load the data"
   ]
  },
  {
   "cell_type": "code",
   "execution_count": 10,
   "metadata": {
    "execution": {
     "iopub.execute_input": "2022-07-18T16:13:15.154560Z",
     "iopub.status.busy": "2022-07-18T16:13:15.154112Z",
     "iopub.status.idle": "2022-07-18T16:13:18.108050Z",
     "shell.execute_reply": "2022-07-18T16:13:18.105957Z",
     "shell.execute_reply.started": "2022-07-18T16:13:15.154519Z"
    }
   },
   "outputs": [],
   "source": [
    "data = pd.read_csv('online_retail_II.csv', on_bad_lines = 'skip', parse_dates=['InvoiceDate'])"
   ]
  },
  {
   "cell_type": "markdown",
   "metadata": {},
   "source": [
    "## Attribute Information:\n",
    "* InvoiceNo: Invoice number. Nominal. A 6-digit integral number uniquely assigned to each transaction. If this code starts with the letter 'c', it indicates a cancellation.\n",
    "* StockCode: Product (item) code. Nominal. A 5-digit integral number uniquely assigned to each distinct product.\n",
    "* Description: Product (item) name. Nominal.\n",
    "* Quantity: The quantities of each product (item) per transaction. Numeric.\n",
    "* InvoiceDate: Invice date and time. Numeric. The day and time when a transaction was generated.\n",
    "* UnitPrice: Unit price. Numeric. Product price per unit in sterling (Â£).\n",
    "* CustomerID: Customer number. Nominal. A 5-digit integral number uniquely assigned to each customer.\n",
    "* Country: Country name. Nominal. The name of the country where a customer resides."
   ]
  },
  {
   "cell_type": "markdown",
   "metadata": {},
   "source": [
    "## Checking the data"
   ]
  },
  {
   "cell_type": "code",
   "execution_count": 11,
   "metadata": {
    "execution": {
     "iopub.execute_input": "2022-07-18T16:13:41.337545Z",
     "iopub.status.busy": "2022-07-18T16:13:41.337138Z",
     "iopub.status.idle": "2022-07-18T16:13:41.367330Z",
     "shell.execute_reply": "2022-07-18T16:13:41.365900Z",
     "shell.execute_reply.started": "2022-07-18T16:13:41.337509Z"
    }
   },
   "outputs": [
    {
     "data": {
      "text/html": [
       "<div>\n",
       "<style scoped>\n",
       "    .dataframe tbody tr th:only-of-type {\n",
       "        vertical-align: middle;\n",
       "    }\n",
       "\n",
       "    .dataframe tbody tr th {\n",
       "        vertical-align: top;\n",
       "    }\n",
       "\n",
       "    .dataframe thead th {\n",
       "        text-align: right;\n",
       "    }\n",
       "</style>\n",
       "<table border=\"1\" class=\"dataframe\">\n",
       "  <thead>\n",
       "    <tr style=\"text-align: right;\">\n",
       "      <th></th>\n",
       "      <th>Invoice</th>\n",
       "      <th>StockCode</th>\n",
       "      <th>Description</th>\n",
       "      <th>Quantity</th>\n",
       "      <th>InvoiceDate</th>\n",
       "      <th>Price</th>\n",
       "      <th>Customer ID</th>\n",
       "      <th>Country</th>\n",
       "    </tr>\n",
       "  </thead>\n",
       "  <tbody>\n",
       "    <tr>\n",
       "      <th>0</th>\n",
       "      <td>489434</td>\n",
       "      <td>85048</td>\n",
       "      <td>15CM CHRISTMAS GLASS BALL 20 LIGHTS</td>\n",
       "      <td>12</td>\n",
       "      <td>2009-12-01 07:45:00</td>\n",
       "      <td>6.95</td>\n",
       "      <td>13085.0</td>\n",
       "      <td>United Kingdom</td>\n",
       "    </tr>\n",
       "    <tr>\n",
       "      <th>1</th>\n",
       "      <td>489434</td>\n",
       "      <td>79323P</td>\n",
       "      <td>PINK CHERRY LIGHTS</td>\n",
       "      <td>12</td>\n",
       "      <td>2009-12-01 07:45:00</td>\n",
       "      <td>6.75</td>\n",
       "      <td>13085.0</td>\n",
       "      <td>United Kingdom</td>\n",
       "    </tr>\n",
       "    <tr>\n",
       "      <th>2</th>\n",
       "      <td>489434</td>\n",
       "      <td>79323W</td>\n",
       "      <td>WHITE CHERRY LIGHTS</td>\n",
       "      <td>12</td>\n",
       "      <td>2009-12-01 07:45:00</td>\n",
       "      <td>6.75</td>\n",
       "      <td>13085.0</td>\n",
       "      <td>United Kingdom</td>\n",
       "    </tr>\n",
       "    <tr>\n",
       "      <th>3</th>\n",
       "      <td>489434</td>\n",
       "      <td>22041</td>\n",
       "      <td>RECORD FRAME 7\" SINGLE SIZE</td>\n",
       "      <td>48</td>\n",
       "      <td>2009-12-01 07:45:00</td>\n",
       "      <td>2.10</td>\n",
       "      <td>13085.0</td>\n",
       "      <td>United Kingdom</td>\n",
       "    </tr>\n",
       "    <tr>\n",
       "      <th>4</th>\n",
       "      <td>489434</td>\n",
       "      <td>21232</td>\n",
       "      <td>STRAWBERRY CERAMIC TRINKET BOX</td>\n",
       "      <td>24</td>\n",
       "      <td>2009-12-01 07:45:00</td>\n",
       "      <td>1.25</td>\n",
       "      <td>13085.0</td>\n",
       "      <td>United Kingdom</td>\n",
       "    </tr>\n",
       "  </tbody>\n",
       "</table>\n",
       "</div>"
      ],
      "text/plain": [
       "  Invoice StockCode                          Description  Quantity  \\\n",
       "0  489434     85048  15CM CHRISTMAS GLASS BALL 20 LIGHTS        12   \n",
       "1  489434    79323P                   PINK CHERRY LIGHTS        12   \n",
       "2  489434    79323W                  WHITE CHERRY LIGHTS        12   \n",
       "3  489434     22041         RECORD FRAME 7\" SINGLE SIZE         48   \n",
       "4  489434     21232       STRAWBERRY CERAMIC TRINKET BOX        24   \n",
       "\n",
       "          InvoiceDate  Price  Customer ID         Country  \n",
       "0 2009-12-01 07:45:00   6.95      13085.0  United Kingdom  \n",
       "1 2009-12-01 07:45:00   6.75      13085.0  United Kingdom  \n",
       "2 2009-12-01 07:45:00   6.75      13085.0  United Kingdom  \n",
       "3 2009-12-01 07:45:00   2.10      13085.0  United Kingdom  \n",
       "4 2009-12-01 07:45:00   1.25      13085.0  United Kingdom  "
      ]
     },
     "execution_count": 11,
     "metadata": {},
     "output_type": "execute_result"
    }
   ],
   "source": [
    "data.head()"
   ]
  },
  {
   "cell_type": "code",
   "execution_count": 12,
   "metadata": {
    "execution": {
     "iopub.execute_input": "2022-07-18T16:13:43.438038Z",
     "iopub.status.busy": "2022-07-18T16:13:43.437515Z",
     "iopub.status.idle": "2022-07-18T16:13:43.929087Z",
     "shell.execute_reply": "2022-07-18T16:13:43.927933Z",
     "shell.execute_reply.started": "2022-07-18T16:13:43.437994Z"
    },
    "scrolled": true
   },
   "outputs": [
    {
     "name": "stdout",
     "output_type": "stream",
     "text": [
      "<class 'pandas.core.frame.DataFrame'>\n",
      "RangeIndex: 1067371 entries, 0 to 1067370\n",
      "Data columns (total 8 columns):\n",
      " #   Column       Non-Null Count    Dtype         \n",
      "---  ------       --------------    -----         \n",
      " 0   Invoice      1067371 non-null  object        \n",
      " 1   StockCode    1067371 non-null  object        \n",
      " 2   Description  1062989 non-null  object        \n",
      " 3   Quantity     1067371 non-null  int64         \n",
      " 4   InvoiceDate  1067371 non-null  datetime64[ns]\n",
      " 5   Price        1067371 non-null  float64       \n",
      " 6   Customer ID  824364 non-null   float64       \n",
      " 7   Country      1067371 non-null  object        \n",
      "dtypes: datetime64[ns](1), float64(2), int64(1), object(4)\n",
      "memory usage: 65.1+ MB\n"
     ]
    }
   ],
   "source": [
    "data.info()"
   ]
  },
  {
   "cell_type": "markdown",
   "metadata": {},
   "source": [
    "Four of the variables are 'object' while three are numerical, and one is dt."
   ]
  },
  {
   "cell_type": "code",
   "execution_count": 18,
   "metadata": {},
   "outputs": [
    {
     "data": {
      "text/html": [
       "<div>\n",
       "<style scoped>\n",
       "    .dataframe tbody tr th:only-of-type {\n",
       "        vertical-align: middle;\n",
       "    }\n",
       "\n",
       "    .dataframe tbody tr th {\n",
       "        vertical-align: top;\n",
       "    }\n",
       "\n",
       "    .dataframe thead th {\n",
       "        text-align: right;\n",
       "    }\n",
       "</style>\n",
       "<table border=\"1\" class=\"dataframe\">\n",
       "  <thead>\n",
       "    <tr style=\"text-align: right;\">\n",
       "      <th></th>\n",
       "      <th>Invoice</th>\n",
       "      <th>StockCode</th>\n",
       "      <th>Description</th>\n",
       "      <th>Quantity</th>\n",
       "      <th>InvoiceDate</th>\n",
       "      <th>Price</th>\n",
       "      <th>Customer ID</th>\n",
       "      <th>Country</th>\n",
       "    </tr>\n",
       "  </thead>\n",
       "  <tbody>\n",
       "    <tr>\n",
       "      <th>count</th>\n",
       "      <td>1067371</td>\n",
       "      <td>1067371</td>\n",
       "      <td>1062989</td>\n",
       "      <td>1.067371e+06</td>\n",
       "      <td>1067371</td>\n",
       "      <td>1.067371e+06</td>\n",
       "      <td>824364.000000</td>\n",
       "      <td>1067371</td>\n",
       "    </tr>\n",
       "    <tr>\n",
       "      <th>unique</th>\n",
       "      <td>53628</td>\n",
       "      <td>5305</td>\n",
       "      <td>5698</td>\n",
       "      <td>NaN</td>\n",
       "      <td>47635</td>\n",
       "      <td>NaN</td>\n",
       "      <td>NaN</td>\n",
       "      <td>43</td>\n",
       "    </tr>\n",
       "    <tr>\n",
       "      <th>top</th>\n",
       "      <td>537434</td>\n",
       "      <td>85123A</td>\n",
       "      <td>WHITE HANGING HEART T-LIGHT HOLDER</td>\n",
       "      <td>NaN</td>\n",
       "      <td>2010-12-06 16:57:00</td>\n",
       "      <td>NaN</td>\n",
       "      <td>NaN</td>\n",
       "      <td>United Kingdom</td>\n",
       "    </tr>\n",
       "    <tr>\n",
       "      <th>freq</th>\n",
       "      <td>1350</td>\n",
       "      <td>5829</td>\n",
       "      <td>5918</td>\n",
       "      <td>NaN</td>\n",
       "      <td>1350</td>\n",
       "      <td>NaN</td>\n",
       "      <td>NaN</td>\n",
       "      <td>981330</td>\n",
       "    </tr>\n",
       "    <tr>\n",
       "      <th>first</th>\n",
       "      <td>NaN</td>\n",
       "      <td>NaN</td>\n",
       "      <td>NaN</td>\n",
       "      <td>NaN</td>\n",
       "      <td>2009-12-01 07:45:00</td>\n",
       "      <td>NaN</td>\n",
       "      <td>NaN</td>\n",
       "      <td>NaN</td>\n",
       "    </tr>\n",
       "    <tr>\n",
       "      <th>last</th>\n",
       "      <td>NaN</td>\n",
       "      <td>NaN</td>\n",
       "      <td>NaN</td>\n",
       "      <td>NaN</td>\n",
       "      <td>2011-12-09 12:50:00</td>\n",
       "      <td>NaN</td>\n",
       "      <td>NaN</td>\n",
       "      <td>NaN</td>\n",
       "    </tr>\n",
       "    <tr>\n",
       "      <th>mean</th>\n",
       "      <td>NaN</td>\n",
       "      <td>NaN</td>\n",
       "      <td>NaN</td>\n",
       "      <td>9.938898e+00</td>\n",
       "      <td>NaN</td>\n",
       "      <td>4.649388e+00</td>\n",
       "      <td>15324.638504</td>\n",
       "      <td>NaN</td>\n",
       "    </tr>\n",
       "    <tr>\n",
       "      <th>std</th>\n",
       "      <td>NaN</td>\n",
       "      <td>NaN</td>\n",
       "      <td>NaN</td>\n",
       "      <td>1.727058e+02</td>\n",
       "      <td>NaN</td>\n",
       "      <td>1.235531e+02</td>\n",
       "      <td>1697.464450</td>\n",
       "      <td>NaN</td>\n",
       "    </tr>\n",
       "    <tr>\n",
       "      <th>min</th>\n",
       "      <td>NaN</td>\n",
       "      <td>NaN</td>\n",
       "      <td>NaN</td>\n",
       "      <td>-8.099500e+04</td>\n",
       "      <td>NaN</td>\n",
       "      <td>-5.359436e+04</td>\n",
       "      <td>12346.000000</td>\n",
       "      <td>NaN</td>\n",
       "    </tr>\n",
       "    <tr>\n",
       "      <th>25%</th>\n",
       "      <td>NaN</td>\n",
       "      <td>NaN</td>\n",
       "      <td>NaN</td>\n",
       "      <td>1.000000e+00</td>\n",
       "      <td>NaN</td>\n",
       "      <td>1.250000e+00</td>\n",
       "      <td>13975.000000</td>\n",
       "      <td>NaN</td>\n",
       "    </tr>\n",
       "    <tr>\n",
       "      <th>50%</th>\n",
       "      <td>NaN</td>\n",
       "      <td>NaN</td>\n",
       "      <td>NaN</td>\n",
       "      <td>3.000000e+00</td>\n",
       "      <td>NaN</td>\n",
       "      <td>2.100000e+00</td>\n",
       "      <td>15255.000000</td>\n",
       "      <td>NaN</td>\n",
       "    </tr>\n",
       "    <tr>\n",
       "      <th>75%</th>\n",
       "      <td>NaN</td>\n",
       "      <td>NaN</td>\n",
       "      <td>NaN</td>\n",
       "      <td>1.000000e+01</td>\n",
       "      <td>NaN</td>\n",
       "      <td>4.150000e+00</td>\n",
       "      <td>16797.000000</td>\n",
       "      <td>NaN</td>\n",
       "    </tr>\n",
       "    <tr>\n",
       "      <th>max</th>\n",
       "      <td>NaN</td>\n",
       "      <td>NaN</td>\n",
       "      <td>NaN</td>\n",
       "      <td>8.099500e+04</td>\n",
       "      <td>NaN</td>\n",
       "      <td>3.897000e+04</td>\n",
       "      <td>18287.000000</td>\n",
       "      <td>NaN</td>\n",
       "    </tr>\n",
       "  </tbody>\n",
       "</table>\n",
       "</div>"
      ],
      "text/plain": [
       "        Invoice StockCode                         Description      Quantity  \\\n",
       "count   1067371   1067371                             1062989  1.067371e+06   \n",
       "unique    53628      5305                                5698           NaN   \n",
       "top      537434    85123A  WHITE HANGING HEART T-LIGHT HOLDER           NaN   \n",
       "freq       1350      5829                                5918           NaN   \n",
       "first       NaN       NaN                                 NaN           NaN   \n",
       "last        NaN       NaN                                 NaN           NaN   \n",
       "mean        NaN       NaN                                 NaN  9.938898e+00   \n",
       "std         NaN       NaN                                 NaN  1.727058e+02   \n",
       "min         NaN       NaN                                 NaN -8.099500e+04   \n",
       "25%         NaN       NaN                                 NaN  1.000000e+00   \n",
       "50%         NaN       NaN                                 NaN  3.000000e+00   \n",
       "75%         NaN       NaN                                 NaN  1.000000e+01   \n",
       "max         NaN       NaN                                 NaN  8.099500e+04   \n",
       "\n",
       "                InvoiceDate         Price    Customer ID         Country  \n",
       "count               1067371  1.067371e+06  824364.000000         1067371  \n",
       "unique                47635           NaN            NaN              43  \n",
       "top     2010-12-06 16:57:00           NaN            NaN  United Kingdom  \n",
       "freq                   1350           NaN            NaN          981330  \n",
       "first   2009-12-01 07:45:00           NaN            NaN             NaN  \n",
       "last    2011-12-09 12:50:00           NaN            NaN             NaN  \n",
       "mean                    NaN  4.649388e+00   15324.638504             NaN  \n",
       "std                     NaN  1.235531e+02    1697.464450             NaN  \n",
       "min                     NaN -5.359436e+04   12346.000000             NaN  \n",
       "25%                     NaN  1.250000e+00   13975.000000             NaN  \n",
       "50%                     NaN  2.100000e+00   15255.000000             NaN  \n",
       "75%                     NaN  4.150000e+00   16797.000000             NaN  \n",
       "max                     NaN  3.897000e+04   18287.000000             NaN  "
      ]
     },
     "execution_count": 18,
     "metadata": {},
     "output_type": "execute_result"
    }
   ],
   "source": [
    "data.describe(include='all')"
   ]
  },
  {
   "cell_type": "markdown",
   "metadata": {},
   "source": [
    "From the output, we can infer that the median (50%) Price is 2,1 and the median Quantity is 3, when the average Price is 4.65 and the average Quantity is 9.94. There is a difference between the mean and the median values of these variables, which is because of the distribution of the data. \n",
    "Also, we can infer that the min Price and Quantity are negative. "
   ]
  },
  {
   "cell_type": "code",
   "execution_count": 28,
   "metadata": {},
   "outputs": [
    {
     "data": {
      "text/plain": [
       "<matplotlib.colorbar.Colorbar at 0x2f900b22130>"
      ]
     },
     "execution_count": 28,
     "metadata": {},
     "output_type": "execute_result"
    },
    {
     "data": {
      "image/png": "[encoded data removed]",
      "text/plain": [
       "<Figure size 1080x504 with 2 Axes>"
      ]
     },
     "metadata": {
      "needs_background": "light"
     },
     "output_type": "display_data"
    }
   ],
   "source": [
    "plt.figure(figsize=(15,7))\n",
    "plt.scatter(data['Price'], data['Quantity'])\n",
    "plt.xlabel('Price')\n",
    "plt.ylabel('Quantity')\n",
    "plt.grid(True)\n",
    "plt.colorbar()"
   ]
  },
  {
   "cell_type": "code",
   "execution_count": 40,
   "metadata": {},
   "outputs": [
    {
     "data": {
      "text/plain": [
       "<AxesSubplot:xlabel='Price', ylabel='Density'>"
      ]
     },
     "execution_count": 40,
     "metadata": {},
     "output_type": "execute_result"
    },
    {
     "data": {
      "text/plain": [
       "<Figure size 1080x720 with 0 Axes>"
      ]
     },
     "metadata": {},
     "output_type": "display_data"
    },
    {
     "data": {
      "image/png": "[encoded data removed]",
      "text/plain": [
       "<Figure size 432x288 with 2 Axes>"
      ]
     },
     "metadata": {
      "needs_background": "light"
     },
     "output_type": "display_data"
    }
   ],
   "source": [
    "fig, ax = plt.subplots(2, 1)\n",
    "sns.boxplot(data['Price'], palette='PRGn', ax = ax[0])\n",
    "sns.distplot(data['Price'], ax = ax[1])"
   ]
  },
  {
   "cell_type": "code",
   "execution_count": 41,
   "metadata": {},
   "outputs": [
    {
     "data": {
      "text/plain": [
       "<AxesSubplot:xlabel='Quantity', ylabel='Density'>"
      ]
     },
     "execution_count": 41,
     "metadata": {},
     "output_type": "execute_result"
    },
    {
     "data": {
      "image/png": "[encoded data removed]",
      "text/plain": [
       "<Figure size 432x288 with 2 Axes>"
      ]
     },
     "metadata": {
      "needs_background": "light"
     },
     "output_type": "display_data"
    }
   ],
   "source": [
    "fig, ax = plt.subplots(2, 1)\n",
    "sns.boxplot(data['Quantity'], palette='PRGn', ax = ax[0])\n",
    "sns.distplot(data['Quantity'], ax = ax[1])"
   ]
  },
  {
   "cell_type": "markdown",
   "metadata": {},
   "source": [
    "## Data cleaning"
   ]
  },
  {
   "cell_type": "code",
   "execution_count": 69,
   "metadata": {
    "execution": {
     "iopub.execute_input": "2022-07-18T16:13:47.511660Z",
     "iopub.status.busy": "2022-07-18T16:13:47.510934Z",
     "iopub.status.idle": "2022-07-18T16:13:47.709062Z",
     "shell.execute_reply": "2022-07-18T16:13:47.708170Z",
     "shell.execute_reply.started": "2022-07-18T16:13:47.511608Z"
    }
   },
   "outputs": [],
   "source": [
    "data = data[(data['Price']>0) & (data['Price'] < 20000)]\n",
    "data = data[(data['Quantity']>0) & (data['Quantity']< 20000)]"
   ]
  },
  {
   "cell_type": "code",
   "execution_count": 74,
   "metadata": {},
   "outputs": [
    {
     "data": {
      "text/plain": [
       "<AxesSubplot:xlabel='Quantity', ylabel='Density'>"
      ]
     },
     "execution_count": 74,
     "metadata": {},
     "output_type": "execute_result"
    },
    {
     "data": {
      "image/png": "[encoded data removed]",
      "text/plain": [
       "<Figure size 432x288 with 2 Axes>"
      ]
     },
     "metadata": {
      "needs_background": "light"
     },
     "output_type": "display_data"
    }
   ],
   "source": [
    "fig, ax = plt.subplots(2, 1)\n",
    "sns.boxplot(data['Quantity'][data['Quantity']<100], palette='PRGn', ax = ax[0])\n",
    "sns.distplot(data['Quantity'][data['Quantity']<100], ax = ax[1])"
   ]
  },
  {
   "cell_type": "code",
   "execution_count": 75,
   "metadata": {},
   "outputs": [
    {
     "data": {
      "text/plain": [
       "<AxesSubplot:xlabel='Price', ylabel='Density'>"
      ]
     },
     "execution_count": 75,
     "metadata": {},
     "output_type": "execute_result"
    },
    {
     "data": {
      "image/png": "[encoded data removed]",
      "text/plain": [
       "<Figure size 432x288 with 2 Axes>"
      ]
     },
     "metadata": {
      "needs_background": "light"
     },
     "output_type": "display_data"
    }
   ],
   "source": [
    "fig, ax = plt.subplots(2, 1)\n",
    "sns.boxplot(data['Price'][data['Price']<30], palette='PRGn', ax = ax[0])\n",
    "sns.distplot(data['Price'][data['Price']<30], ax = ax[1])"
   ]
  },
  {
   "cell_type": "code",
   "execution_count": 76,
   "metadata": {
    "execution": {
     "iopub.execute_input": "2022-07-18T16:13:48.956507Z",
     "iopub.status.busy": "2022-07-18T16:13:48.955794Z",
     "iopub.status.idle": "2022-07-18T16:13:57.450579Z",
     "shell.execute_reply": "2022-07-18T16:13:57.449753Z",
     "shell.execute_reply.started": "2022-07-18T16:13:48.956470Z"
    }
   },
   "outputs": [
    {
     "data": {
      "text/plain": [
       "<AxesSubplot:xlabel='Quantity', ylabel='Density'>"
      ]
     },
     "execution_count": 76,
     "metadata": {},
     "output_type": "execute_result"
    },
    {
     "data": {
      "image/png": "[encoded data removed]",
      "text/plain": [
       "<Figure size 1080x720 with 2 Axes>"
      ]
     },
     "metadata": {
      "needs_background": "light"
     },
     "output_type": "display_data"
    }
   ],
   "source": [
    "fig,ax = plt.subplots(1, 2, figsize=(15, 10))\n",
    "fig.suptitle('Histograms')\n",
    "sns.distplot(data['Price'][data['Price']<30], ax=ax[0])\n",
    "sns.distplot(data['Quantity'][data['Quantity']<100], ax=ax[1])"
   ]
  },
  {
   "cell_type": "code",
   "execution_count": 78,
   "metadata": {
    "execution": {
     "iopub.execute_input": "2022-07-18T16:14:51.333609Z",
     "iopub.status.busy": "2022-07-18T16:14:51.333151Z",
     "iopub.status.idle": "2022-07-18T16:14:51.345845Z",
     "shell.execute_reply": "2022-07-18T16:14:51.344679Z",
     "shell.execute_reply.started": "2022-07-18T16:14:51.333570Z"
    }
   },
   "outputs": [],
   "source": [
    "data['Total'] = data['Quantity'] * data['Price']\n"
   ]
  },
  {
   "cell_type": "code",
   "execution_count": 79,
   "metadata": {
    "execution": {
     "iopub.execute_input": "2022-07-18T16:22:31.879845Z",
     "iopub.status.busy": "2022-07-18T16:22:31.879437Z",
     "iopub.status.idle": "2022-07-18T16:22:32.028930Z",
     "shell.execute_reply": "2022-07-18T16:22:32.027705Z",
     "shell.execute_reply.started": "2022-07-18T16:22:31.879811Z"
    }
   },
   "outputs": [
    {
     "data": {
      "text/html": [
       "<div>\n",
       "<style scoped>\n",
       "    .dataframe tbody tr th:only-of-type {\n",
       "        vertical-align: middle;\n",
       "    }\n",
       "\n",
       "    .dataframe tbody tr th {\n",
       "        vertical-align: top;\n",
       "    }\n",
       "\n",
       "    .dataframe thead th {\n",
       "        text-align: right;\n",
       "    }\n",
       "</style>\n",
       "<table border=\"1\" class=\"dataframe\">\n",
       "  <thead>\n",
       "    <tr style=\"text-align: right;\">\n",
       "      <th></th>\n",
       "      <th>Customer ID</th>\n",
       "      <th>Country</th>\n",
       "      <th>Total</th>\n",
       "    </tr>\n",
       "  </thead>\n",
       "  <tbody>\n",
       "    <tr>\n",
       "      <th>5695</th>\n",
       "      <td>18102.0</td>\n",
       "      <td>United Kingdom</td>\n",
       "      <td>599507.73</td>\n",
       "    </tr>\n",
       "    <tr>\n",
       "      <th>2287</th>\n",
       "      <td>14646.0</td>\n",
       "      <td>Netherlands</td>\n",
       "      <td>518679.96</td>\n",
       "    </tr>\n",
       "    <tr>\n",
       "      <th>1800</th>\n",
       "      <td>14156.0</td>\n",
       "      <td>EIRE</td>\n",
       "      <td>305076.72</td>\n",
       "    </tr>\n",
       "    <tr>\n",
       "      <th>2548</th>\n",
       "      <td>14911.0</td>\n",
       "      <td>EIRE</td>\n",
       "      <td>286548.99</td>\n",
       "    </tr>\n",
       "    <tr>\n",
       "      <th>5054</th>\n",
       "      <td>17450.0</td>\n",
       "      <td>United Kingdom</td>\n",
       "      <td>217994.37</td>\n",
       "    </tr>\n",
       "  </tbody>\n",
       "</table>\n",
       "</div>"
      ],
      "text/plain": [
       "      Customer ID         Country      Total\n",
       "5695      18102.0  United Kingdom  599507.73\n",
       "2287      14646.0     Netherlands  518679.96\n",
       "1800      14156.0            EIRE  305076.72\n",
       "2548      14911.0            EIRE  286548.99\n",
       "5054      17450.0  United Kingdom  217994.37"
      ]
     },
     "execution_count": 79,
     "metadata": {},
     "output_type": "execute_result"
    }
   ],
   "source": [
    "#Customers with Max Total Purchase Amount\n",
    "data.groupby(['Customer ID', 'Country'], as_index=False)['Total'].agg('sum').sort_values('Total', ascending=False).head()"
   ]
  },
  {
   "cell_type": "code",
   "execution_count": 80,
   "metadata": {
    "execution": {
     "iopub.execute_input": "2022-07-18T16:23:22.804223Z",
     "iopub.status.busy": "2022-07-18T16:23:22.803840Z",
     "iopub.status.idle": "2022-07-18T16:23:22.914878Z",
     "shell.execute_reply": "2022-07-18T16:23:22.913863Z",
     "shell.execute_reply.started": "2022-07-18T16:23:22.804186Z"
    }
   },
   "outputs": [
    {
     "data": {
      "text/html": [
       "<div>\n",
       "<style scoped>\n",
       "    .dataframe tbody tr th:only-of-type {\n",
       "        vertical-align: middle;\n",
       "    }\n",
       "\n",
       "    .dataframe tbody tr th {\n",
       "        vertical-align: top;\n",
       "    }\n",
       "\n",
       "    .dataframe thead th {\n",
       "        text-align: right;\n",
       "    }\n",
       "</style>\n",
       "<table border=\"1\" class=\"dataframe\">\n",
       "  <thead>\n",
       "    <tr style=\"text-align: right;\">\n",
       "      <th></th>\n",
       "      <th>Country</th>\n",
       "      <th>Total</th>\n",
       "    </tr>\n",
       "  </thead>\n",
       "  <tbody>\n",
       "    <tr>\n",
       "      <th>40</th>\n",
       "      <td>United Kingdom</td>\n",
       "      <td>1.688358e+07</td>\n",
       "    </tr>\n",
       "    <tr>\n",
       "      <th>11</th>\n",
       "      <td>EIRE</td>\n",
       "      <td>6.418368e+05</td>\n",
       "    </tr>\n",
       "    <tr>\n",
       "      <th>26</th>\n",
       "      <td>Netherlands</td>\n",
       "      <td>5.443098e+05</td>\n",
       "    </tr>\n",
       "    <tr>\n",
       "      <th>15</th>\n",
       "      <td>Germany</td>\n",
       "      <td>4.288756e+05</td>\n",
       "    </tr>\n",
       "    <tr>\n",
       "      <th>14</th>\n",
       "      <td>France</td>\n",
       "      <td>3.323979e+05</td>\n",
       "    </tr>\n",
       "  </tbody>\n",
       "</table>\n",
       "</div>"
      ],
      "text/plain": [
       "           Country         Total\n",
       "40  United Kingdom  1.688358e+07\n",
       "11            EIRE  6.418368e+05\n",
       "26     Netherlands  5.443098e+05\n",
       "15         Germany  4.288756e+05\n",
       "14          France  3.323979e+05"
      ]
     },
     "execution_count": 80,
     "metadata": {},
     "output_type": "execute_result"
    }
   ],
   "source": [
    "#Countries With Max Total Purchase Amount\n",
    "data.groupby(['Country'], as_index=False)['Total'].agg('sum').sort_values('Total', ascending=False).head()"
   ]
  },
  {
   "cell_type": "markdown",
   "metadata": {},
   "source": [
    "# RFM"
   ]
  },
  {
   "cell_type": "code",
   "execution_count": 81,
   "metadata": {
    "execution": {
     "iopub.execute_input": "2022-07-18T16:38:56.081960Z",
     "iopub.status.busy": "2022-07-18T16:38:56.081562Z",
     "iopub.status.idle": "2022-07-18T16:38:56.253977Z",
     "shell.execute_reply": "2022-07-18T16:38:56.252803Z",
     "shell.execute_reply.started": "2022-07-18T16:38:56.081930Z"
    }
   },
   "outputs": [],
   "source": [
    "data = data.groupby('Customer ID', as_index=False).agg({'Total':'mean', 'InvoiceDate':'max', 'Invoice':'nunique'})"
   ]
  },
  {
   "cell_type": "code",
   "execution_count": 82,
   "metadata": {
    "execution": {
     "iopub.execute_input": "2022-07-18T16:39:54.450588Z",
     "iopub.status.busy": "2022-07-18T16:39:54.450140Z",
     "iopub.status.idle": "2022-07-18T16:39:54.583833Z",
     "shell.execute_reply": "2022-07-18T16:39:54.581971Z",
     "shell.execute_reply.started": "2022-07-18T16:39:54.450555Z"
    }
   },
   "outputs": [],
   "source": [
    "obs_date = (max(data['InvoiceDate']) + timedelta(days=1))\n",
    "data['days_since_lats_purch'] = data['InvoiceDate'].apply(lambda x: obs_date - x)\n",
    "data['days_since_lats_purch'] = data['days_since_lats_purch'].dt.days.astype(int)"
   ]
  },
  {
   "cell_type": "code",
   "execution_count": 83,
   "metadata": {
    "execution": {
     "iopub.execute_input": "2022-07-18T16:40:06.852902Z",
     "iopub.status.busy": "2022-07-18T16:40:06.852498Z",
     "iopub.status.idle": "2022-07-18T16:40:07.105439Z",
     "shell.execute_reply": "2022-07-18T16:40:07.104069Z",
     "shell.execute_reply.started": "2022-07-18T16:40:06.852870Z"
    }
   },
   "outputs": [
    {
     "data": {
      "text/plain": [
       "<AxesSubplot:xlabel='days_since_lats_purch', ylabel='Density'>"
      ]
     },
     "execution_count": 83,
     "metadata": {},
     "output_type": "execute_result"
    },
    {
     "data": {
      "image/png": "[encoded data removed]",
      "text/plain": [
       "<Figure size 432x288 with 1 Axes>"
      ]
     },
     "metadata": {
      "needs_background": "light"
     },
     "output_type": "display_data"
    }
   ],
   "source": [
    "sns.distplot(data['days_since_lats_purch'])"
   ]
  },
  {
   "cell_type": "markdown",
   "metadata": {},
   "source": [
    "# # recent"
   ]
  },
  {
   "cell_type": "code",
   "execution_count": 84,
   "metadata": {
    "execution": {
     "iopub.execute_input": "2022-07-18T16:44:03.054510Z",
     "iopub.status.busy": "2022-07-18T16:44:03.054128Z",
     "iopub.status.idle": "2022-07-18T16:44:03.220669Z",
     "shell.execute_reply": "2022-07-18T16:44:03.219690Z",
     "shell.execute_reply.started": "2022-07-18T16:44:03.054480Z"
    }
   },
   "outputs": [
    {
     "data": {
      "text/plain": [
       "<AxesSubplot:xlabel='recent', ylabel='count'>"
      ]
     },
     "execution_count": 84,
     "metadata": {},
     "output_type": "execute_result"
    },
    {
     "data": {
      "image/png": "[encoded data removed]",
      "text/plain": [
       "<Figure size 432x288 with 1 Axes>"
      ]
     },
     "metadata": {
      "needs_background": "light"
     },
     "output_type": "display_data"
    }
   ],
   "source": [
    "def recent_score(r):\n",
    "    if r <= 70:\n",
    "        return 3\n",
    "    elif r > 70 and r <= 500:\n",
    "        return 2\n",
    "    else:\n",
    "        return 1\n",
    "\n",
    "data['recent'] = data['days_since_lats_purch'].apply(recent_score)\n",
    "sns.countplot(data['recent'])"
   ]
  },
  {
   "cell_type": "code",
   "execution_count": 85,
   "metadata": {
    "execution": {
     "iopub.execute_input": "2022-07-18T16:44:22.701907Z",
     "iopub.status.busy": "2022-07-18T16:44:22.701516Z",
     "iopub.status.idle": "2022-07-18T16:44:22.982181Z",
     "shell.execute_reply": "2022-07-18T16:44:22.980782Z",
     "shell.execute_reply.started": "2022-07-18T16:44:22.701874Z"
    }
   },
   "outputs": [
    {
     "data": {
      "text/plain": [
       "<AxesSubplot:xlabel='Invoice', ylabel='Density'>"
      ]
     },
     "execution_count": 85,
     "metadata": {},
     "output_type": "execute_result"
    },
    {
     "data": {
      "image/png": "[encoded data removed]",
      "text/plain": [
       "<Figure size 432x288 with 1 Axes>"
      ]
     },
     "metadata": {
      "needs_background": "light"
     },
     "output_type": "display_data"
    }
   ],
   "source": [
    "sns.distplot(data[data['Invoice']<25]['Invoice'])"
   ]
  },
  {
   "cell_type": "markdown",
   "metadata": {},
   "source": [
    "# # frequency"
   ]
  },
  {
   "cell_type": "code",
   "execution_count": 86,
   "metadata": {
    "execution": {
     "iopub.execute_input": "2022-07-18T16:44:39.914853Z",
     "iopub.status.busy": "2022-07-18T16:44:39.914422Z",
     "iopub.status.idle": "2022-07-18T16:44:40.102125Z",
     "shell.execute_reply": "2022-07-18T16:44:40.100931Z",
     "shell.execute_reply.started": "2022-07-18T16:44:39.914808Z"
    }
   },
   "outputs": [
    {
     "data": {
      "text/plain": [
       "<AxesSubplot:xlabel='frequency', ylabel='count'>"
      ]
     },
     "execution_count": 86,
     "metadata": {},
     "output_type": "execute_result"
    },
    {
     "data": {
      "image/png": "[encoded data removed]",
      "text/plain": [
       "<Figure size 432x288 with 1 Axes>"
      ]
     },
     "metadata": {
      "needs_background": "light"
     },
     "output_type": "display_data"
    }
   ],
   "source": [
    "def frequency_score(r):\n",
    "    if r <= 3:\n",
    "        return 3\n",
    "    elif r > 3 and r <= 7:\n",
    "        return 2\n",
    "    else:\n",
    "        return 1\n",
    "\n",
    "data['frequency'] = data['Invoice'].apply(frequency_score)\n",
    "sns.countplot(data['frequency'])"
   ]
  },
  {
   "cell_type": "code",
   "execution_count": 87,
   "metadata": {
    "execution": {
     "iopub.execute_input": "2022-07-18T16:44:49.551171Z",
     "iopub.status.busy": "2022-07-18T16:44:49.550022Z",
     "iopub.status.idle": "2022-07-18T16:44:49.857857Z",
     "shell.execute_reply": "2022-07-18T16:44:49.856337Z",
     "shell.execute_reply.started": "2022-07-18T16:44:49.551126Z"
    }
   },
   "outputs": [
    {
     "data": {
      "text/plain": [
       "<AxesSubplot:xlabel='Total', ylabel='Density'>"
      ]
     },
     "execution_count": 87,
     "metadata": {},
     "output_type": "execute_result"
    },
    {
     "data": {
      "image/png": "[encoded data removed]",
      "text/plain": [
       "<Figure size 432x288 with 1 Axes>"
      ]
     },
     "metadata": {
      "needs_background": "light"
     },
     "output_type": "display_data"
    }
   ],
   "source": [
    "sns.distplot(data[data['Total']<100]['Total'])"
   ]
  },
  {
   "cell_type": "markdown",
   "metadata": {},
   "source": [
    "# # monetary"
   ]
  },
  {
   "cell_type": "code",
   "execution_count": 88,
   "metadata": {
    "execution": {
     "iopub.execute_input": "2022-07-18T16:45:01.537328Z",
     "iopub.status.busy": "2022-07-18T16:45:01.536937Z",
     "iopub.status.idle": "2022-07-18T16:45:01.703776Z",
     "shell.execute_reply": "2022-07-18T16:45:01.702926Z",
     "shell.execute_reply.started": "2022-07-18T16:45:01.537298Z"
    }
   },
   "outputs": [
    {
     "data": {
      "text/plain": [
       "<AxesSubplot:xlabel='monetary', ylabel='count'>"
      ]
     },
     "execution_count": 88,
     "metadata": {},
     "output_type": "execute_result"
    },
    {
     "data": {
      "image/png": "[encoded data removed]",
      "text/plain": [
       "<Figure size 432x288 with 1 Axes>"
      ]
     },
     "metadata": {
      "needs_background": "light"
     },
     "output_type": "display_data"
    }
   ],
   "source": [
    "def monetary_score(r):\n",
    "    if r <= 30:\n",
    "        return 3\n",
    "    elif r > 30 and r <= 60:\n",
    "        return 2\n",
    "    else:\n",
    "        return 1\n",
    "\n",
    "data['monetary'] = data['Total'].apply(monetary_score)\n",
    "sns.countplot(data['monetary'])"
   ]
  },
  {
   "cell_type": "code",
   "execution_count": 89,
   "metadata": {
    "execution": {
     "iopub.execute_input": "2022-07-18T16:45:05.062255Z",
     "iopub.status.busy": "2022-07-18T16:45:05.061821Z",
     "iopub.status.idle": "2022-07-18T16:45:05.251926Z",
     "shell.execute_reply": "2022-07-18T16:45:05.250715Z",
     "shell.execute_reply.started": "2022-07-18T16:45:05.062209Z"
    }
   },
   "outputs": [
    {
     "data": {
      "text/html": [
       "<div>\n",
       "<style scoped>\n",
       "    .dataframe tbody tr th:only-of-type {\n",
       "        vertical-align: middle;\n",
       "    }\n",
       "\n",
       "    .dataframe tbody tr th {\n",
       "        vertical-align: top;\n",
       "    }\n",
       "\n",
       "    .dataframe thead th {\n",
       "        text-align: right;\n",
       "    }\n",
       "</style>\n",
       "<table border=\"1\" class=\"dataframe\">\n",
       "  <thead>\n",
       "    <tr style=\"text-align: right;\">\n",
       "      <th></th>\n",
       "      <th>Customer ID</th>\n",
       "      <th>Total</th>\n",
       "      <th>InvoiceDate</th>\n",
       "      <th>Invoice</th>\n",
       "      <th>days_since_lats_purch</th>\n",
       "      <th>recent</th>\n",
       "      <th>frequency</th>\n",
       "      <th>monetary</th>\n",
       "      <th>rfm</th>\n",
       "    </tr>\n",
       "  </thead>\n",
       "  <tbody>\n",
       "    <tr>\n",
       "      <th>0</th>\n",
       "      <td>12346.0</td>\n",
       "      <td>11.298788</td>\n",
       "      <td>2010-06-28 13:53:00</td>\n",
       "      <td>11</td>\n",
       "      <td>529</td>\n",
       "      <td>1</td>\n",
       "      <td>1</td>\n",
       "      <td>3</td>\n",
       "      <td>113</td>\n",
       "    </tr>\n",
       "    <tr>\n",
       "      <th>1</th>\n",
       "      <td>12347.0</td>\n",
       "      <td>22.266087</td>\n",
       "      <td>2011-12-07 15:52:00</td>\n",
       "      <td>8</td>\n",
       "      <td>2</td>\n",
       "      <td>3</td>\n",
       "      <td>1</td>\n",
       "      <td>3</td>\n",
       "      <td>313</td>\n",
       "    </tr>\n",
       "    <tr>\n",
       "      <th>2</th>\n",
       "      <td>12348.0</td>\n",
       "      <td>39.596078</td>\n",
       "      <td>2011-09-25 13:13:00</td>\n",
       "      <td>5</td>\n",
       "      <td>75</td>\n",
       "      <td>2</td>\n",
       "      <td>2</td>\n",
       "      <td>2</td>\n",
       "      <td>222</td>\n",
       "    </tr>\n",
       "    <tr>\n",
       "      <th>3</th>\n",
       "      <td>12349.0</td>\n",
       "      <td>25.306800</td>\n",
       "      <td>2011-11-21 09:51:00</td>\n",
       "      <td>4</td>\n",
       "      <td>19</td>\n",
       "      <td>3</td>\n",
       "      <td>2</td>\n",
       "      <td>3</td>\n",
       "      <td>323</td>\n",
       "    </tr>\n",
       "    <tr>\n",
       "      <th>4</th>\n",
       "      <td>12350.0</td>\n",
       "      <td>19.670588</td>\n",
       "      <td>2011-02-02 16:01:00</td>\n",
       "      <td>1</td>\n",
       "      <td>310</td>\n",
       "      <td>2</td>\n",
       "      <td>3</td>\n",
       "      <td>3</td>\n",
       "      <td>233</td>\n",
       "    </tr>\n",
       "  </tbody>\n",
       "</table>\n",
       "</div>"
      ],
      "text/plain": [
       "   Customer ID      Total         InvoiceDate  Invoice  days_since_lats_purch  \\\n",
       "0      12346.0  11.298788 2010-06-28 13:53:00       11                    529   \n",
       "1      12347.0  22.266087 2011-12-07 15:52:00        8                      2   \n",
       "2      12348.0  39.596078 2011-09-25 13:13:00        5                     75   \n",
       "3      12349.0  25.306800 2011-11-21 09:51:00        4                     19   \n",
       "4      12350.0  19.670588 2011-02-02 16:01:00        1                    310   \n",
       "\n",
       "   recent  frequency  monetary  rfm  \n",
       "0       1          1         3  113  \n",
       "1       3          1         3  313  \n",
       "2       2          2         2  222  \n",
       "3       3          2         3  323  \n",
       "4       2          3         3  233  "
      ]
     },
     "execution_count": 89,
     "metadata": {},
     "output_type": "execute_result"
    }
   ],
   "source": [
    "data['rfm'] = data.apply(lambda x: str(x['recent']) + str(x['frequency']) + str(x['monetary']), axis=1)\n",
    "data.head()"
   ]
  },
  {
   "cell_type": "code",
   "execution_count": 90,
   "metadata": {
    "execution": {
     "iopub.execute_input": "2022-07-18T16:45:07.549985Z",
     "iopub.status.busy": "2022-07-18T16:45:07.549575Z",
     "iopub.status.idle": "2022-07-18T16:45:07.887403Z",
     "shell.execute_reply": "2022-07-18T16:45:07.886138Z",
     "shell.execute_reply.started": "2022-07-18T16:45:07.549950Z"
    }
   },
   "outputs": [
    {
     "data": {
      "text/plain": [
       "<AxesSubplot:xlabel='count', ylabel='rfm'>"
      ]
     },
     "execution_count": 90,
     "metadata": {},
     "output_type": "execute_result"
    },
    {
     "data": {
      "image/png": "[encoded data removed]",
      "text/plain": [
       "<Figure size 1080x720 with 1 Axes>"
      ]
     },
     "metadata": {
      "needs_background": "light"
     },
     "output_type": "display_data"
    }
   ],
   "source": [
    "plt.figure(figsize=(15, 10))\n",
    "sns.countplot(y=data['rfm'])"
   ]
  }
 ],
 "metadata": {
  "kernelspec": {
   "display_name": "Python 3",
   "language": "python",
   "name": "python3"
  },
  "language_info": {
   "codemirror_mode": {
    "name": "ipython",
    "version": 3
   },
   "file_extension": ".py",
   "mimetype": "text/x-python",
   "name": "python",
   "nbconvert_exporter": "python",
   "pygments_lexer": "ipython3",
   "version": "3.8.10"
  }
 },
 "nbformat": 4,
 "nbformat_minor": 4
}
