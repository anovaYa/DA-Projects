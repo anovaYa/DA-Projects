{
 "cells": [
  {
   "cell_type": "markdown",
   "id": "ce3880f4",
   "metadata": {},
   "source": [
    "# Credit Card Customer Data\n",
    "A Customer Credit Card Information Dataset which can be used for Identifying Loyal Customers, Customer Segmentation, Targeted Marketing and other such use cases in the Marketing Industry.\n"
   ]
  },
  {
   "cell_type": "markdown",
   "id": "0f73f2b8",
   "metadata": {},
   "source": [
    "## Importing Libraries"
   ]
  },
  {
   "cell_type": "code",
   "execution_count": 29,
   "id": "a5a41864",
   "metadata": {},
   "outputs": [],
   "source": [
    "import numpy as np\n",
    "import pandas as pd\n",
    "import seaborn as sns\n",
    "\n",
    "from sklearn.preprocessing import StandardScaler\n",
    "from sklearn.decomposition import PCA\n",
    "\n",
    "import matplotlib.pyplot as plt\n",
    "%matplotlib inline\n",
    "\n",
    "import warnings \n",
    "warnings.filterwarnings('ignore')"
   ]
  },
  {
   "cell_type": "markdown",
   "id": "1970d82a",
   "metadata": {},
   "source": [
    "# Loading Data"
   ]
  },
  {
   "cell_type": "code",
   "execution_count": 2,
   "id": "6cb4e3b7",
   "metadata": {},
   "outputs": [],
   "source": [
    "#/kaggle/input/credit-card-customer-data/Credit Card Customer Data.csv\n",
    "creditCardData = pd.read_csv('../input/credit_card_customer_data.csv')"
   ]
  },
  {
   "cell_type": "code",
   "execution_count": 3,
   "id": "58acac08",
   "metadata": {},
   "outputs": [
    {
     "data": {
      "text/html": [
       "<div>\n",
       "<style scoped>\n",
       "    .dataframe tbody tr th:only-of-type {\n",
       "        vertical-align: middle;\n",
       "    }\n",
       "\n",
       "    .dataframe tbody tr th {\n",
       "        vertical-align: top;\n",
       "    }\n",
       "\n",
       "    .dataframe thead th {\n",
       "        text-align: right;\n",
       "    }\n",
       "</style>\n",
       "<table border=\"1\" class=\"dataframe\">\n",
       "  <thead>\n",
       "    <tr style=\"text-align: right;\">\n",
       "      <th></th>\n",
       "      <th>Sl_No</th>\n",
       "      <th>Customer Key</th>\n",
       "      <th>Avg_Credit_Limit</th>\n",
       "      <th>Total_Credit_Cards</th>\n",
       "      <th>Total_visits_bank</th>\n",
       "      <th>Total_visits_online</th>\n",
       "      <th>Total_calls_made</th>\n",
       "    </tr>\n",
       "  </thead>\n",
       "  <tbody>\n",
       "    <tr>\n",
       "      <th>0</th>\n",
       "      <td>1</td>\n",
       "      <td>87073</td>\n",
       "      <td>100000</td>\n",
       "      <td>2</td>\n",
       "      <td>1</td>\n",
       "      <td>1</td>\n",
       "      <td>0</td>\n",
       "    </tr>\n",
       "    <tr>\n",
       "      <th>1</th>\n",
       "      <td>2</td>\n",
       "      <td>38414</td>\n",
       "      <td>50000</td>\n",
       "      <td>3</td>\n",
       "      <td>0</td>\n",
       "      <td>10</td>\n",
       "      <td>9</td>\n",
       "    </tr>\n",
       "    <tr>\n",
       "      <th>2</th>\n",
       "      <td>3</td>\n",
       "      <td>17341</td>\n",
       "      <td>50000</td>\n",
       "      <td>7</td>\n",
       "      <td>1</td>\n",
       "      <td>3</td>\n",
       "      <td>4</td>\n",
       "    </tr>\n",
       "    <tr>\n",
       "      <th>3</th>\n",
       "      <td>4</td>\n",
       "      <td>40496</td>\n",
       "      <td>30000</td>\n",
       "      <td>5</td>\n",
       "      <td>1</td>\n",
       "      <td>1</td>\n",
       "      <td>4</td>\n",
       "    </tr>\n",
       "    <tr>\n",
       "      <th>4</th>\n",
       "      <td>5</td>\n",
       "      <td>47437</td>\n",
       "      <td>100000</td>\n",
       "      <td>6</td>\n",
       "      <td>0</td>\n",
       "      <td>12</td>\n",
       "      <td>3</td>\n",
       "    </tr>\n",
       "  </tbody>\n",
       "</table>\n",
       "</div>"
      ],
      "text/plain": [
       "   Sl_No  Customer Key  Avg_Credit_Limit  Total_Credit_Cards  \\\n",
       "0      1         87073            100000                   2   \n",
       "1      2         38414             50000                   3   \n",
       "2      3         17341             50000                   7   \n",
       "3      4         40496             30000                   5   \n",
       "4      5         47437            100000                   6   \n",
       "\n",
       "   Total_visits_bank  Total_visits_online  Total_calls_made  \n",
       "0                  1                    1                 0  \n",
       "1                  0                   10                 9  \n",
       "2                  1                    3                 4  \n",
       "3                  1                    1                 4  \n",
       "4                  0                   12                 3  "
      ]
     },
     "execution_count": 3,
     "metadata": {},
     "output_type": "execute_result"
    }
   ],
   "source": [
    "creditCardData.head()"
   ]
  },
  {
   "cell_type": "code",
   "execution_count": 4,
   "id": "bb927e70",
   "metadata": {},
   "outputs": [
    {
     "name": "stdout",
     "output_type": "stream",
     "text": [
      "<class 'pandas.core.frame.DataFrame'>\n",
      "RangeIndex: 660 entries, 0 to 659\n",
      "Data columns (total 7 columns):\n",
      " #   Column               Non-Null Count  Dtype\n",
      "---  ------               --------------  -----\n",
      " 0   Sl_No                660 non-null    int64\n",
      " 1   Customer Key         660 non-null    int64\n",
      " 2   Avg_Credit_Limit     660 non-null    int64\n",
      " 3   Total_Credit_Cards   660 non-null    int64\n",
      " 4   Total_visits_bank    660 non-null    int64\n",
      " 5   Total_visits_online  660 non-null    int64\n",
      " 6   Total_calls_made     660 non-null    int64\n",
      "dtypes: int64(7)\n",
      "memory usage: 36.2 KB\n"
     ]
    }
   ],
   "source": [
    "creditCardData.info()"
   ]
  },
  {
   "cell_type": "code",
   "execution_count": 10,
   "id": "c88c83d0",
   "metadata": {},
   "outputs": [],
   "source": [
    "creditCardData = creditCardData.loc[:, creditCardData.columns!='Sl_No'].set_index('Customer Key')"
   ]
  },
  {
   "cell_type": "code",
   "execution_count": 12,
   "id": "2ad565f3",
   "metadata": {},
   "outputs": [
    {
     "data": {
      "text/html": [
       "<div>\n",
       "<style scoped>\n",
       "    .dataframe tbody tr th:only-of-type {\n",
       "        vertical-align: middle;\n",
       "    }\n",
       "\n",
       "    .dataframe tbody tr th {\n",
       "        vertical-align: top;\n",
       "    }\n",
       "\n",
       "    .dataframe thead th {\n",
       "        text-align: right;\n",
       "    }\n",
       "</style>\n",
       "<table border=\"1\" class=\"dataframe\">\n",
       "  <thead>\n",
       "    <tr style=\"text-align: right;\">\n",
       "      <th></th>\n",
       "      <th>Avg_Credit_Limit</th>\n",
       "      <th>Total_Credit_Cards</th>\n",
       "      <th>Total_visits_bank</th>\n",
       "      <th>Total_visits_online</th>\n",
       "      <th>Total_calls_made</th>\n",
       "    </tr>\n",
       "  </thead>\n",
       "  <tbody>\n",
       "    <tr>\n",
       "      <th>count</th>\n",
       "      <td>660.000000</td>\n",
       "      <td>660.000000</td>\n",
       "      <td>660.000000</td>\n",
       "      <td>660.000000</td>\n",
       "      <td>660.000000</td>\n",
       "    </tr>\n",
       "    <tr>\n",
       "      <th>mean</th>\n",
       "      <td>34574.242424</td>\n",
       "      <td>4.706061</td>\n",
       "      <td>2.403030</td>\n",
       "      <td>2.606061</td>\n",
       "      <td>3.583333</td>\n",
       "    </tr>\n",
       "    <tr>\n",
       "      <th>std</th>\n",
       "      <td>37625.487804</td>\n",
       "      <td>2.167835</td>\n",
       "      <td>1.631813</td>\n",
       "      <td>2.935724</td>\n",
       "      <td>2.865317</td>\n",
       "    </tr>\n",
       "    <tr>\n",
       "      <th>min</th>\n",
       "      <td>3000.000000</td>\n",
       "      <td>1.000000</td>\n",
       "      <td>0.000000</td>\n",
       "      <td>0.000000</td>\n",
       "      <td>0.000000</td>\n",
       "    </tr>\n",
       "    <tr>\n",
       "      <th>25%</th>\n",
       "      <td>10000.000000</td>\n",
       "      <td>3.000000</td>\n",
       "      <td>1.000000</td>\n",
       "      <td>1.000000</td>\n",
       "      <td>1.000000</td>\n",
       "    </tr>\n",
       "    <tr>\n",
       "      <th>50%</th>\n",
       "      <td>18000.000000</td>\n",
       "      <td>5.000000</td>\n",
       "      <td>2.000000</td>\n",
       "      <td>2.000000</td>\n",
       "      <td>3.000000</td>\n",
       "    </tr>\n",
       "    <tr>\n",
       "      <th>75%</th>\n",
       "      <td>48000.000000</td>\n",
       "      <td>6.000000</td>\n",
       "      <td>4.000000</td>\n",
       "      <td>4.000000</td>\n",
       "      <td>5.000000</td>\n",
       "    </tr>\n",
       "    <tr>\n",
       "      <th>max</th>\n",
       "      <td>200000.000000</td>\n",
       "      <td>10.000000</td>\n",
       "      <td>5.000000</td>\n",
       "      <td>15.000000</td>\n",
       "      <td>10.000000</td>\n",
       "    </tr>\n",
       "  </tbody>\n",
       "</table>\n",
       "</div>"
      ],
      "text/plain": [
       "       Avg_Credit_Limit  Total_Credit_Cards  Total_visits_bank  \\\n",
       "count        660.000000          660.000000         660.000000   \n",
       "mean       34574.242424            4.706061           2.403030   \n",
       "std        37625.487804            2.167835           1.631813   \n",
       "min         3000.000000            1.000000           0.000000   \n",
       "25%        10000.000000            3.000000           1.000000   \n",
       "50%        18000.000000            5.000000           2.000000   \n",
       "75%        48000.000000            6.000000           4.000000   \n",
       "max       200000.000000           10.000000           5.000000   \n",
       "\n",
       "       Total_visits_online  Total_calls_made  \n",
       "count           660.000000        660.000000  \n",
       "mean              2.606061          3.583333  \n",
       "std               2.935724          2.865317  \n",
       "min               0.000000          0.000000  \n",
       "25%               1.000000          1.000000  \n",
       "50%               2.000000          3.000000  \n",
       "75%               4.000000          5.000000  \n",
       "max              15.000000         10.000000  "
      ]
     },
     "execution_count": 12,
     "metadata": {},
     "output_type": "execute_result"
    }
   ],
   "source": [
    "creditCardData.describe()"
   ]
  },
  {
   "cell_type": "code",
   "execution_count": 13,
   "id": "b6061431",
   "metadata": {},
   "outputs": [
    {
     "data": {
      "text/plain": [
       "array([[<AxesSubplot:title={'center':'Avg_Credit_Limit'}>,\n",
       "        <AxesSubplot:title={'center':'Total_Credit_Cards'}>],\n",
       "       [<AxesSubplot:title={'center':'Total_visits_bank'}>,\n",
       "        <AxesSubplot:title={'center':'Total_visits_online'}>],\n",
       "       [<AxesSubplot:title={'center':'Total_calls_made'}>,\n",
       "        <AxesSubplot:>]], dtype=object)"
      ]
     },
     "execution_count": 13,
     "metadata": {},
     "output_type": "execute_result"
    },
    {
     "data": {
      "image/png": "[encoded data removed]",
      "text/plain": [
       "<Figure size 1440x1440 with 6 Axes>"
      ]
     },
     "metadata": {
      "needs_background": "light"
     },
     "output_type": "display_data"
    }
   ],
   "source": [
    "creditCardData.hist(figsize=(20, 20))"
   ]
  },
  {
   "cell_type": "markdown",
   "id": "fadaa7b5",
   "metadata": {},
   "source": [
    "# Data Preprocessing\n",
    "## Standardization"
   ]
  },
  {
   "cell_type": "code",
   "execution_count": 90,
   "id": "395d5abf",
   "metadata": {},
   "outputs": [],
   "source": [
    "scaler = StandardScaler()\n",
    "standardData = scaler.fit(creditCardData)\n",
    "scaledData = pd.DataFrame(scaler.transform(creditCardData),columns= creditCardData.columns )"
   ]
  },
  {
   "cell_type": "code",
   "execution_count": 91,
   "id": "a7a4b6e1",
   "metadata": {},
   "outputs": [
    {
     "data": {
      "text/html": [
       "<div>\n",
       "<style scoped>\n",
       "    .dataframe tbody tr th:only-of-type {\n",
       "        vertical-align: middle;\n",
       "    }\n",
       "\n",
       "    .dataframe tbody tr th {\n",
       "        vertical-align: top;\n",
       "    }\n",
       "\n",
       "    .dataframe thead th {\n",
       "        text-align: right;\n",
       "    }\n",
       "</style>\n",
       "<table border=\"1\" class=\"dataframe\">\n",
       "  <thead>\n",
       "    <tr style=\"text-align: right;\">\n",
       "      <th></th>\n",
       "      <th>Avg_Credit_Limit</th>\n",
       "      <th>Total_Credit_Cards</th>\n",
       "      <th>Total_visits_bank</th>\n",
       "      <th>Total_visits_online</th>\n",
       "      <th>Total_calls_made</th>\n",
       "    </tr>\n",
       "  </thead>\n",
       "  <tbody>\n",
       "    <tr>\n",
       "      <th>count</th>\n",
       "      <td>6.600000e+02</td>\n",
       "      <td>6.600000e+02</td>\n",
       "      <td>6.600000e+02</td>\n",
       "      <td>6.600000e+02</td>\n",
       "      <td>6.600000e+02</td>\n",
       "    </tr>\n",
       "    <tr>\n",
       "      <th>mean</th>\n",
       "      <td>8.195465e-16</td>\n",
       "      <td>-4.006223e-15</td>\n",
       "      <td>1.157323e-16</td>\n",
       "      <td>1.944572e-16</td>\n",
       "      <td>-7.112156e-16</td>\n",
       "    </tr>\n",
       "    <tr>\n",
       "      <th>std</th>\n",
       "      <td>1.000758e+00</td>\n",
       "      <td>1.000758e+00</td>\n",
       "      <td>1.000758e+00</td>\n",
       "      <td>1.000758e+00</td>\n",
       "      <td>1.000758e+00</td>\n",
       "    </tr>\n",
       "    <tr>\n",
       "      <th>min</th>\n",
       "      <td>-8.398081e-01</td>\n",
       "      <td>-1.710864e+00</td>\n",
       "      <td>-1.473731e+00</td>\n",
       "      <td>-8.883795e-01</td>\n",
       "      <td>-1.251537e+00</td>\n",
       "    </tr>\n",
       "    <tr>\n",
       "      <th>25%</th>\n",
       "      <td>-6.536229e-01</td>\n",
       "      <td>-7.875852e-01</td>\n",
       "      <td>-8.604506e-01</td>\n",
       "      <td>-5.474897e-01</td>\n",
       "      <td>-9.022711e-01</td>\n",
       "    </tr>\n",
       "    <tr>\n",
       "      <th>50%</th>\n",
       "      <td>-4.408398e-01</td>\n",
       "      <td>1.356941e-01</td>\n",
       "      <td>-2.471705e-01</td>\n",
       "      <td>-2.065999e-01</td>\n",
       "      <td>-2.037386e-01</td>\n",
       "    </tr>\n",
       "    <tr>\n",
       "      <th>75%</th>\n",
       "      <td>3.570968e-01</td>\n",
       "      <td>5.973337e-01</td>\n",
       "      <td>9.793898e-01</td>\n",
       "      <td>4.751797e-01</td>\n",
       "      <td>4.947938e-01</td>\n",
       "    </tr>\n",
       "    <tr>\n",
       "      <th>max</th>\n",
       "      <td>4.399975e+00</td>\n",
       "      <td>2.443892e+00</td>\n",
       "      <td>1.592670e+00</td>\n",
       "      <td>4.224968e+00</td>\n",
       "      <td>2.241125e+00</td>\n",
       "    </tr>\n",
       "  </tbody>\n",
       "</table>\n",
       "</div>"
      ],
      "text/plain": [
       "       Avg_Credit_Limit  Total_Credit_Cards  Total_visits_bank  \\\n",
       "count      6.600000e+02        6.600000e+02       6.600000e+02   \n",
       "mean       8.195465e-16       -4.006223e-15       1.157323e-16   \n",
       "std        1.000758e+00        1.000758e+00       1.000758e+00   \n",
       "min       -8.398081e-01       -1.710864e+00      -1.473731e+00   \n",
       "25%       -6.536229e-01       -7.875852e-01      -8.604506e-01   \n",
       "50%       -4.408398e-01        1.356941e-01      -2.471705e-01   \n",
       "75%        3.570968e-01        5.973337e-01       9.793898e-01   \n",
       "max        4.399975e+00        2.443892e+00       1.592670e+00   \n",
       "\n",
       "       Total_visits_online  Total_calls_made  \n",
       "count         6.600000e+02      6.600000e+02  \n",
       "mean          1.944572e-16     -7.112156e-16  \n",
       "std           1.000758e+00      1.000758e+00  \n",
       "min          -8.883795e-01     -1.251537e+00  \n",
       "25%          -5.474897e-01     -9.022711e-01  \n",
       "50%          -2.065999e-01     -2.037386e-01  \n",
       "75%           4.751797e-01      4.947938e-01  \n",
       "max           4.224968e+00      2.241125e+00  "
      ]
     },
     "execution_count": 91,
     "metadata": {},
     "output_type": "execute_result"
    }
   ],
   "source": [
    "scaledData.describe()"
   ]
  },
  {
   "cell_type": "code",
   "execution_count": 110,
   "id": "4c77c1b7",
   "metadata": {},
   "outputs": [],
   "source": [
    "pca = PCA(n_components = 3)\n",
    "XPCAreduced = pca.fit_transform(scaledData)"
   ]
  },
  {
   "cell_type": "code",
   "execution_count": 111,
   "id": "aeced191",
   "metadata": {},
   "outputs": [
    {
     "data": {
      "text/plain": [
       "array([[ 0.50129079,  0.52482909,  1.89586173],\n",
       "       [-1.45956008,  3.10558756, -0.9068019 ],\n",
       "       [ 0.52579466,  0.82397914,  0.0890302 ],\n",
       "       ...,\n",
       "       [ 2.85144378,  2.98308097,  0.0448878 ],\n",
       "       [ 4.17825796,  4.58293019, -0.60533647],\n",
       "       [ 3.16042563,  4.35101851, -0.25437735]])"
      ]
     },
     "execution_count": 111,
     "metadata": {},
     "output_type": "execute_result"
    }
   ],
   "source": [
    "XPCAreduced"
   ]
  },
  {
   "cell_type": "code",
   "execution_count": 112,
   "id": "c9b49dd2",
   "metadata": {},
   "outputs": [
    {
     "name": "stdout",
     "output_type": "stream",
     "text": [
      "Mean vector:  [ 8.61263922e-17  4.30631961e-17 -4.30631961e-17  7.53605932e-17\n",
      " -8.61263922e-17]\n",
      "Projection:  [[ 0.48885901  0.59767943  0.28049227  0.11178284 -0.55912866]\n",
      " [ 0.40323959  0.03017103 -0.58658661  0.66516108  0.22352726]\n",
      " [ 0.00346147 -0.28498293 -0.6135219  -0.3049481  -0.67035086]]\n",
      "Explained variance ratio:  [0.45736578 0.37426483 0.06401348]\n"
     ]
    }
   ],
   "source": [
    "print('Mean vector: ', pca.mean_)\n",
    "print('Projection: ', pca.components_)\n",
    "print ('Explained variance ratio: ', pca.explained_variance_ratio_)\n",
    "\n"
   ]
  },
  {
   "cell_type": "code",
   "execution_count": 113,
   "id": "ea060ffa",
   "metadata": {},
   "outputs": [
    {
     "data": {
      "text/plain": [
       "<matplotlib.collections.PathCollection at 0x20643455730>"
      ]
     },
     "execution_count": 113,
     "metadata": {},
     "output_type": "execute_result"
    },
    {
     "data": {
      "image/png": "[encoded data removed]",
      "text/plain": [
       "<Figure size 432x288 with 1 Axes>"
      ]
     },
     "metadata": {
      "needs_background": "light"
     },
     "output_type": "display_data"
    }
   ],
   "source": [
    "plt.scatter(XPCAreduced[:, 0],  XPCAreduced[:, 2], c=XPCAreduced[:, 1], cmap='hot')"
   ]
  }
 ],
 "metadata": {
  "kernelspec": {
   "display_name": "Python 3",
   "language": "python",
   "name": "python3"
  },
  "language_info": {
   "codemirror_mode": {
    "name": "ipython",
    "version": 3
   },
   "file_extension": ".py",
   "mimetype": "text/x-python",
   "name": "python",
   "nbconvert_exporter": "python",
   "pygments_lexer": "ipython3",
   "version": "3.8.10"
  }
 },
 "nbformat": 4,
 "nbformat_minor": 5
}
