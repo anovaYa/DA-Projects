{
 "cells": [
  {
   "cell_type": "markdown",
   "id": "b957195f",
   "metadata": {},
   "source": [
    "<a href=\"https://www.kaggle.com/code/anovayana/online-retail-ii-uci-analytics?scriptVersionId=101245814\" target=\"_blank\"><img align=\"left\" alt=\"Kaggle\" title=\"Open in Kaggle\" src=\"https://kaggle.com/static/images/open-in-kaggle.svg\"></a>"
   ]
  },
  {
   "cell_type": "markdown",
   "id": "a4c1560b",
   "metadata": {
    "papermill": {
     "duration": 0.008583,
     "end_time": "2022-07-19T14:47:32.109919",
     "exception": false,
     "start_time": "2022-07-19T14:47:32.101336",
     "status": "completed"
    },
    "tags": []
   },
   "source": [
    "# Online Retail II UCI"
   ]
  },
  {
   "cell_type": "markdown",
   "id": "49026f7b",
   "metadata": {
    "papermill": {
     "duration": 0.007074,
     "end_time": "2022-07-19T14:47:32.126453",
     "exception": false,
     "start_time": "2022-07-19T14:47:32.119379",
     "status": "completed"
    },
    "tags": []
   },
   "source": [
    "## Loading the required libraries"
   ]
  },
  {
   "cell_type": "code",
   "execution_count": 1,
   "id": "c730cabe",
   "metadata": {
    "execution": {
     "iopub.execute_input": "2022-07-19T14:47:32.146985Z",
     "iopub.status.busy": "2022-07-19T14:47:32.146153Z",
     "iopub.status.idle": "2022-07-19T14:47:33.711139Z",
     "shell.execute_reply": "2022-07-19T14:47:33.709596Z"
    },
    "papermill": {
     "duration": 1.579767,
     "end_time": "2022-07-19T14:47:33.714554",
     "exception": false,
     "start_time": "2022-07-19T14:47:32.134787",
     "status": "completed"
    },
    "tags": []
   },
   "outputs": [],
   "source": [
    "import warnings \n",
    "warnings.filterwarnings('ignore')\n",
    "import pandas as pd\n",
    "import numpy as np\n",
    "import seaborn as sns\n",
    "from datetime import datetime as dt, timedelta\n",
    "import matplotlib.pyplot as plt\n",
    "%matplotlib inline"
   ]
  },
  {
   "cell_type": "markdown",
   "id": "c7b64ff4",
   "metadata": {
    "papermill": {
     "duration": 0.006672,
     "end_time": "2022-07-19T14:47:33.728806",
     "exception": false,
     "start_time": "2022-07-19T14:47:33.722134",
     "status": "completed"
    },
    "tags": []
   },
   "source": [
    "## Load the data"
   ]
  },
  {
   "cell_type": "code",
   "execution_count": 2,
   "id": "774e25bc",
   "metadata": {
    "execution": {
     "iopub.execute_input": "2022-07-19T14:47:33.745402Z",
     "iopub.status.busy": "2022-07-19T14:47:33.744941Z",
     "iopub.status.idle": "2022-07-19T14:47:36.69028Z",
     "shell.execute_reply": "2022-07-19T14:47:36.688361Z"
    },
    "papermill": {
     "duration": 2.957657,
     "end_time": "2022-07-19T14:47:36.693644",
     "exception": false,
     "start_time": "2022-07-19T14:47:33.735987",
     "status": "completed"
    },
    "tags": []
   },
   "outputs": [],
   "source": [
    "data = pd.read_csv('../input/online-retail-ii-uci/online_retail_II.csv', on_bad_lines = 'skip', parse_dates=['InvoiceDate'])"
   ]
  },
  {
   "cell_type": "markdown",
   "id": "b0ae5826",
   "metadata": {
    "papermill": {
     "duration": 0.00657,
     "end_time": "2022-07-19T14:47:36.707873",
     "exception": false,
     "start_time": "2022-07-19T14:47:36.701303",
     "status": "completed"
    },
    "tags": []
   },
   "source": [
    "## Attribute Information:\n",
    "* InvoiceNo: Invoice number. Nominal. A 6-digit integral number uniquely assigned to each transaction. If this code starts with the letter 'c', it indicates a cancellation.\n",
    "* StockCode: Product (item) code. Nominal. A 5-digit integral number uniquely assigned to each distinct product.\n",
    "* Description: Product (item) name. Nominal.\n",
    "* Quantity: The quantities of each product (item) per transaction. Numeric.\n",
    "* InvoiceDate: Invice date and time. Numeric. The day and time when a transaction was generated.\n",
    "* UnitPrice: Unit price. Numeric. Product price per unit in sterling (Â£).\n",
    "* CustomerID: Customer number. Nominal. A 5-digit integral number uniquely assigned to each customer.\n",
    "* Country: Country name. Nominal. The name of the country where a customer resides."
   ]
  },
  {
   "cell_type": "markdown",
   "id": "fa9733b1",
   "metadata": {
    "papermill": {
     "duration": 0.006736,
     "end_time": "2022-07-19T14:47:36.721292",
     "exception": false,
     "start_time": "2022-07-19T14:47:36.714556",
     "status": "completed"
    },
    "tags": []
   },
   "source": [
    "## Checking the data"
   ]
  },
  {
   "cell_type": "code",
   "execution_count": 3,
   "id": "cf834154",
   "metadata": {
    "execution": {
     "iopub.execute_input": "2022-07-19T14:47:36.740082Z",
     "iopub.status.busy": "2022-07-19T14:47:36.739634Z",
     "iopub.status.idle": "2022-07-19T14:47:36.761984Z",
     "shell.execute_reply": "2022-07-19T14:47:36.760828Z"
    },
    "papermill": {
     "duration": 0.035823,
     "end_time": "2022-07-19T14:47:36.765991",
     "exception": false,
     "start_time": "2022-07-19T14:47:36.730168",
     "status": "completed"
    },
    "tags": []
   },
   "outputs": [
    {
     "data": {
      "text/html": [
       "<div>\n",
       "<style scoped>\n",
       "    .dataframe tbody tr th:only-of-type {\n",
       "        vertical-align: middle;\n",
       "    }\n",
       "\n",
       "    .dataframe tbody tr th {\n",
       "        vertical-align: top;\n",
       "    }\n",
       "\n",
       "    .dataframe thead th {\n",
       "        text-align: right;\n",
       "    }\n",
       "</style>\n",
       "<table border=\"1\" class=\"dataframe\">\n",
       "  <thead>\n",
       "    <tr style=\"text-align: right;\">\n",
       "      <th></th>\n",
       "      <th>Invoice</th>\n",
       "      <th>StockCode</th>\n",
       "      <th>Description</th>\n",
       "      <th>Quantity</th>\n",
       "      <th>InvoiceDate</th>\n",
       "      <th>Price</th>\n",
       "      <th>Customer ID</th>\n",
       "      <th>Country</th>\n",
       "    </tr>\n",
       "  </thead>\n",
       "  <tbody>\n",
       "    <tr>\n",
       "      <th>0</th>\n",
       "      <td>489434</td>\n",
       "      <td>85048</td>\n",
       "      <td>15CM CHRISTMAS GLASS BALL 20 LIGHTS</td>\n",
       "      <td>12</td>\n",
       "      <td>2009-12-01 07:45:00</td>\n",
       "      <td>6.95</td>\n",
       "      <td>13085.0</td>\n",
       "      <td>United Kingdom</td>\n",
       "    </tr>\n",
       "    <tr>\n",
       "      <th>1</th>\n",
       "      <td>489434</td>\n",
       "      <td>79323P</td>\n",
       "      <td>PINK CHERRY LIGHTS</td>\n",
       "      <td>12</td>\n",
       "      <td>2009-12-01 07:45:00</td>\n",
       "      <td>6.75</td>\n",
       "      <td>13085.0</td>\n",
       "      <td>United Kingdom</td>\n",
       "    </tr>\n",
       "    <tr>\n",
       "      <th>2</th>\n",
       "      <td>489434</td>\n",
       "      <td>79323W</td>\n",
       "      <td>WHITE CHERRY LIGHTS</td>\n",
       "      <td>12</td>\n",
       "      <td>2009-12-01 07:45:00</td>\n",
       "      <td>6.75</td>\n",
       "      <td>13085.0</td>\n",
       "      <td>United Kingdom</td>\n",
       "    </tr>\n",
       "    <tr>\n",
       "      <th>3</th>\n",
       "      <td>489434</td>\n",
       "      <td>22041</td>\n",
       "      <td>RECORD FRAME 7\" SINGLE SIZE</td>\n",
       "      <td>48</td>\n",
       "      <td>2009-12-01 07:45:00</td>\n",
       "      <td>2.10</td>\n",
       "      <td>13085.0</td>\n",
       "      <td>United Kingdom</td>\n",
       "    </tr>\n",
       "    <tr>\n",
       "      <th>4</th>\n",
       "      <td>489434</td>\n",
       "      <td>21232</td>\n",
       "      <td>STRAWBERRY CERAMIC TRINKET BOX</td>\n",
       "      <td>24</td>\n",
       "      <td>2009-12-01 07:45:00</td>\n",
       "      <td>1.25</td>\n",
       "      <td>13085.0</td>\n",
       "      <td>United Kingdom</td>\n",
       "    </tr>\n",
       "  </tbody>\n",
       "</table>\n",
       "</div>"
      ],
      "text/plain": [
       "  Invoice StockCode                          Description  Quantity  \\\n",
       "0  489434     85048  15CM CHRISTMAS GLASS BALL 20 LIGHTS        12   \n",
       "1  489434    79323P                   PINK CHERRY LIGHTS        12   \n",
       "2  489434    79323W                  WHITE CHERRY LIGHTS        12   \n",
       "3  489434     22041         RECORD FRAME 7\" SINGLE SIZE         48   \n",
       "4  489434     21232       STRAWBERRY CERAMIC TRINKET BOX        24   \n",
       "\n",
       "          InvoiceDate  Price  Customer ID         Country  \n",
       "0 2009-12-01 07:45:00   6.95      13085.0  United Kingdom  \n",
       "1 2009-12-01 07:45:00   6.75      13085.0  United Kingdom  \n",
       "2 2009-12-01 07:45:00   6.75      13085.0  United Kingdom  \n",
       "3 2009-12-01 07:45:00   2.10      13085.0  United Kingdom  \n",
       "4 2009-12-01 07:45:00   1.25      13085.0  United Kingdom  "
      ]
     },
     "execution_count": 3,
     "metadata": {},
     "output_type": "execute_result"
    }
   ],
   "source": [
    "data.head()"
   ]
  },
  {
   "cell_type": "code",
   "execution_count": 4,
   "id": "f00d253c",
   "metadata": {
    "execution": {
     "iopub.execute_input": "2022-07-19T14:47:36.783432Z",
     "iopub.status.busy": "2022-07-19T14:47:36.782899Z",
     "iopub.status.idle": "2022-07-19T14:47:37.014752Z",
     "shell.execute_reply": "2022-07-19T14:47:37.013669Z"
    },
    "papermill": {
     "duration": 0.244031,
     "end_time": "2022-07-19T14:47:37.01766",
     "exception": false,
     "start_time": "2022-07-19T14:47:36.773629",
     "status": "completed"
    },
    "scrolled": true,
    "tags": []
   },
   "outputs": [
    {
     "name": "stdout",
     "output_type": "stream",
     "text": [
      "<class 'pandas.core.frame.DataFrame'>\n",
      "RangeIndex: 1067371 entries, 0 to 1067370\n",
      "Data columns (total 8 columns):\n",
      " #   Column       Non-Null Count    Dtype         \n",
      "---  ------       --------------    -----         \n",
      " 0   Invoice      1067371 non-null  object        \n",
      " 1   StockCode    1067371 non-null  object        \n",
      " 2   Description  1062989 non-null  object        \n",
      " 3   Quantity     1067371 non-null  int64         \n",
      " 4   InvoiceDate  1067371 non-null  datetime64[ns]\n",
      " 5   Price        1067371 non-null  float64       \n",
      " 6   Customer ID  824364 non-null   float64       \n",
      " 7   Country      1067371 non-null  object        \n",
      "dtypes: datetime64[ns](1), float64(2), int64(1), object(4)\n",
      "memory usage: 65.1+ MB\n"
     ]
    }
   ],
   "source": [
    "data.info()"
   ]
  },
  {
   "cell_type": "markdown",
   "id": "8eb8ab4a",
   "metadata": {
    "papermill": {
     "duration": 0.006879,
     "end_time": "2022-07-19T14:47:37.031819",
     "exception": false,
     "start_time": "2022-07-19T14:47:37.02494",
     "status": "completed"
    },
    "tags": []
   },
   "source": [
    "Four of the variables are 'object' while three are numerical, and one is dt."
   ]
  },
  {
   "cell_type": "code",
   "execution_count": 5,
   "id": "87758fb9",
   "metadata": {
    "execution": {
     "iopub.execute_input": "2022-07-19T14:47:37.051238Z",
     "iopub.status.busy": "2022-07-19T14:47:37.050761Z",
     "iopub.status.idle": "2022-07-19T14:47:37.832844Z",
     "shell.execute_reply": "2022-07-19T14:47:37.83119Z"
    },
    "papermill": {
     "duration": 0.796685,
     "end_time": "2022-07-19T14:47:37.836867",
     "exception": false,
     "start_time": "2022-07-19T14:47:37.040182",
     "status": "completed"
    },
    "tags": []
   },
   "outputs": [
    {
     "data": {
      "text/html": [
       "<div>\n",
       "<style scoped>\n",
       "    .dataframe tbody tr th:only-of-type {\n",
       "        vertical-align: middle;\n",
       "    }\n",
       "\n",
       "    .dataframe tbody tr th {\n",
       "        vertical-align: top;\n",
       "    }\n",
       "\n",
       "    .dataframe thead th {\n",
       "        text-align: right;\n",
       "    }\n",
       "</style>\n",
       "<table border=\"1\" class=\"dataframe\">\n",
       "  <thead>\n",
       "    <tr style=\"text-align: right;\">\n",
       "      <th></th>\n",
       "      <th>Invoice</th>\n",
       "      <th>StockCode</th>\n",
       "      <th>Description</th>\n",
       "      <th>Quantity</th>\n",
       "      <th>InvoiceDate</th>\n",
       "      <th>Price</th>\n",
       "      <th>Customer ID</th>\n",
       "      <th>Country</th>\n",
       "    </tr>\n",
       "  </thead>\n",
       "  <tbody>\n",
       "    <tr>\n",
       "      <th>count</th>\n",
       "      <td>1067371</td>\n",
       "      <td>1067371</td>\n",
       "      <td>1062989</td>\n",
       "      <td>1.067371e+06</td>\n",
       "      <td>1067371</td>\n",
       "      <td>1.067371e+06</td>\n",
       "      <td>824364.000000</td>\n",
       "      <td>1067371</td>\n",
       "    </tr>\n",
       "    <tr>\n",
       "      <th>unique</th>\n",
       "      <td>53628</td>\n",
       "      <td>5305</td>\n",
       "      <td>5698</td>\n",
       "      <td>NaN</td>\n",
       "      <td>47635</td>\n",
       "      <td>NaN</td>\n",
       "      <td>NaN</td>\n",
       "      <td>43</td>\n",
       "    </tr>\n",
       "    <tr>\n",
       "      <th>top</th>\n",
       "      <td>537434</td>\n",
       "      <td>85123A</td>\n",
       "      <td>WHITE HANGING HEART T-LIGHT HOLDER</td>\n",
       "      <td>NaN</td>\n",
       "      <td>2010-12-06 16:57:00</td>\n",
       "      <td>NaN</td>\n",
       "      <td>NaN</td>\n",
       "      <td>United Kingdom</td>\n",
       "    </tr>\n",
       "    <tr>\n",
       "      <th>freq</th>\n",
       "      <td>1350</td>\n",
       "      <td>5829</td>\n",
       "      <td>5918</td>\n",
       "      <td>NaN</td>\n",
       "      <td>1350</td>\n",
       "      <td>NaN</td>\n",
       "      <td>NaN</td>\n",
       "      <td>981330</td>\n",
       "    </tr>\n",
       "    <tr>\n",
       "      <th>first</th>\n",
       "      <td>NaN</td>\n",
       "      <td>NaN</td>\n",
       "      <td>NaN</td>\n",
       "      <td>NaN</td>\n",
       "      <td>2009-12-01 07:45:00</td>\n",
       "      <td>NaN</td>\n",
       "      <td>NaN</td>\n",
       "      <td>NaN</td>\n",
       "    </tr>\n",
       "    <tr>\n",
       "      <th>last</th>\n",
       "      <td>NaN</td>\n",
       "      <td>NaN</td>\n",
       "      <td>NaN</td>\n",
       "      <td>NaN</td>\n",
       "      <td>2011-12-09 12:50:00</td>\n",
       "      <td>NaN</td>\n",
       "      <td>NaN</td>\n",
       "      <td>NaN</td>\n",
       "    </tr>\n",
       "    <tr>\n",
       "      <th>mean</th>\n",
       "      <td>NaN</td>\n",
       "      <td>NaN</td>\n",
       "      <td>NaN</td>\n",
       "      <td>9.938898e+00</td>\n",
       "      <td>NaN</td>\n",
       "      <td>4.649388e+00</td>\n",
       "      <td>15324.638504</td>\n",
       "      <td>NaN</td>\n",
       "    </tr>\n",
       "    <tr>\n",
       "      <th>std</th>\n",
       "      <td>NaN</td>\n",
       "      <td>NaN</td>\n",
       "      <td>NaN</td>\n",
       "      <td>1.727058e+02</td>\n",
       "      <td>NaN</td>\n",
       "      <td>1.235531e+02</td>\n",
       "      <td>1697.464450</td>\n",
       "      <td>NaN</td>\n",
       "    </tr>\n",
       "    <tr>\n",
       "      <th>min</th>\n",
       "      <td>NaN</td>\n",
       "      <td>NaN</td>\n",
       "      <td>NaN</td>\n",
       "      <td>-8.099500e+04</td>\n",
       "      <td>NaN</td>\n",
       "      <td>-5.359436e+04</td>\n",
       "      <td>12346.000000</td>\n",
       "      <td>NaN</td>\n",
       "    </tr>\n",
       "    <tr>\n",
       "      <th>25%</th>\n",
       "      <td>NaN</td>\n",
       "      <td>NaN</td>\n",
       "      <td>NaN</td>\n",
       "      <td>1.000000e+00</td>\n",
       "      <td>NaN</td>\n",
       "      <td>1.250000e+00</td>\n",
       "      <td>13975.000000</td>\n",
       "      <td>NaN</td>\n",
       "    </tr>\n",
       "    <tr>\n",
       "      <th>50%</th>\n",
       "      <td>NaN</td>\n",
       "      <td>NaN</td>\n",
       "      <td>NaN</td>\n",
       "      <td>3.000000e+00</td>\n",
       "      <td>NaN</td>\n",
       "      <td>2.100000e+00</td>\n",
       "      <td>15255.000000</td>\n",
       "      <td>NaN</td>\n",
       "    </tr>\n",
       "    <tr>\n",
       "      <th>75%</th>\n",
       "      <td>NaN</td>\n",
       "      <td>NaN</td>\n",
       "      <td>NaN</td>\n",
       "      <td>1.000000e+01</td>\n",
       "      <td>NaN</td>\n",
       "      <td>4.150000e+00</td>\n",
       "      <td>16797.000000</td>\n",
       "      <td>NaN</td>\n",
       "    </tr>\n",
       "    <tr>\n",
       "      <th>max</th>\n",
       "      <td>NaN</td>\n",
       "      <td>NaN</td>\n",
       "      <td>NaN</td>\n",
       "      <td>8.099500e+04</td>\n",
       "      <td>NaN</td>\n",
       "      <td>3.897000e+04</td>\n",
       "      <td>18287.000000</td>\n",
       "      <td>NaN</td>\n",
       "    </tr>\n",
       "  </tbody>\n",
       "</table>\n",
       "</div>"
      ],
      "text/plain": [
       "        Invoice StockCode                         Description      Quantity  \\\n",
       "count   1067371   1067371                             1062989  1.067371e+06   \n",
       "unique    53628      5305                                5698           NaN   \n",
       "top      537434    85123A  WHITE HANGING HEART T-LIGHT HOLDER           NaN   \n",
       "freq       1350      5829                                5918           NaN   \n",
       "first       NaN       NaN                                 NaN           NaN   \n",
       "last        NaN       NaN                                 NaN           NaN   \n",
       "mean        NaN       NaN                                 NaN  9.938898e+00   \n",
       "std         NaN       NaN                                 NaN  1.727058e+02   \n",
       "min         NaN       NaN                                 NaN -8.099500e+04   \n",
       "25%         NaN       NaN                                 NaN  1.000000e+00   \n",
       "50%         NaN       NaN                                 NaN  3.000000e+00   \n",
       "75%         NaN       NaN                                 NaN  1.000000e+01   \n",
       "max         NaN       NaN                                 NaN  8.099500e+04   \n",
       "\n",
       "                InvoiceDate         Price    Customer ID         Country  \n",
       "count               1067371  1.067371e+06  824364.000000         1067371  \n",
       "unique                47635           NaN            NaN              43  \n",
       "top     2010-12-06 16:57:00           NaN            NaN  United Kingdom  \n",
       "freq                   1350           NaN            NaN          981330  \n",
       "first   2009-12-01 07:45:00           NaN            NaN             NaN  \n",
       "last    2011-12-09 12:50:00           NaN            NaN             NaN  \n",
       "mean                    NaN  4.649388e+00   15324.638504             NaN  \n",
       "std                     NaN  1.235531e+02    1697.464450             NaN  \n",
       "min                     NaN -5.359436e+04   12346.000000             NaN  \n",
       "25%                     NaN  1.250000e+00   13975.000000             NaN  \n",
       "50%                     NaN  2.100000e+00   15255.000000             NaN  \n",
       "75%                     NaN  4.150000e+00   16797.000000             NaN  \n",
       "max                     NaN  3.897000e+04   18287.000000             NaN  "
      ]
     },
     "execution_count": 5,
     "metadata": {},
     "output_type": "execute_result"
    }
   ],
   "source": [
    "data.describe(include='all')"
   ]
  },
  {
   "cell_type": "markdown",
   "id": "fdb83eae",
   "metadata": {
    "papermill": {
     "duration": 0.009524,
     "end_time": "2022-07-19T14:47:37.856197",
     "exception": false,
     "start_time": "2022-07-19T14:47:37.846673",
     "status": "completed"
    },
    "tags": []
   },
   "source": [
    "From the output, we can infer that the median (50%) Price is 2,1 and the median Quantity is 3, when the average Price is 4.65 and the average Quantity is 9.94. There is a difference between the mean and the median values of these variables, which is because of the distribution of the data. \n",
    "Also, we can infer that the min Price and Quantity are negative. "
   ]
  },
  {
   "cell_type": "code",
   "execution_count": 6,
   "id": "a9f54b3d",
   "metadata": {
    "execution": {
     "iopub.execute_input": "2022-07-19T14:47:37.873739Z",
     "iopub.status.busy": "2022-07-19T14:47:37.873279Z",
     "iopub.status.idle": "2022-07-19T14:47:40.14987Z",
     "shell.execute_reply": "2022-07-19T14:47:40.148689Z"
    },
    "papermill": {
     "duration": 2.289055,
     "end_time": "2022-07-19T14:47:40.152874",
     "exception": false,
     "start_time": "2022-07-19T14:47:37.863819",
     "status": "completed"
    },
    "tags": []
   },
   "outputs": [
    {
     "data": {
      "text/plain": [
       "<matplotlib.colorbar.Colorbar at 0x7f13a587b450>"
      ]
     },
     "execution_count": 6,
     "metadata": {},
     "output_type": "execute_result"
    },
    {
     "data": {
      "image/png": "[encoded data removed]",
      "text/plain": [
       "<Figure size 1080x504 with 2 Axes>"
      ]
     },
     "metadata": {
      "needs_background": "light"
     },
     "output_type": "display_data"
    }
   ],
   "source": [
    "plt.figure(figsize=(15,7))\n",
    "plt.scatter(data['Price'], data['Quantity'])\n",
    "plt.xlabel('Price')\n",
    "plt.ylabel('Quantity')\n",
    "plt.grid(True)\n",
    "plt.colorbar()"
   ]
  },
  {
   "cell_type": "code",
   "execution_count": 7,
   "id": "a11de871",
   "metadata": {
    "execution": {
     "iopub.execute_input": "2022-07-19T14:47:40.177751Z",
     "iopub.status.busy": "2022-07-19T14:47:40.177155Z",
     "iopub.status.idle": "2022-07-19T14:47:44.647338Z",
     "shell.execute_reply": "2022-07-19T14:47:44.645733Z"
    },
    "papermill": {
     "duration": 4.488114,
     "end_time": "2022-07-19T14:47:44.649625",
     "exception": false,
     "start_time": "2022-07-19T14:47:40.161511",
     "status": "completed"
    },
    "tags": []
   },
   "outputs": [
    {
     "data": {
      "text/plain": [
       "<AxesSubplot:xlabel='Price', ylabel='Density'>"
      ]
     },
     "execution_count": 7,
     "metadata": {},
     "output_type": "execute_result"
    },
    {
     "data": {
      "image/png": "[encoded data removed]",
      "text/plain": [
       "<Figure size 432x288 with 2 Axes>"
      ]
     },
     "metadata": {
      "needs_background": "light"
     },
     "output_type": "display_data"
    }
   ],
   "source": [
    "fig, ax = plt.subplots(2, 1)\n",
    "sns.boxplot(data['Price'], palette='PRGn', ax = ax[0])\n",
    "sns.distplot(data['Price'], ax = ax[1])"
   ]
  },
  {
   "cell_type": "code",
   "execution_count": 8,
   "id": "4bc534fc",
   "metadata": {
    "execution": {
     "iopub.execute_input": "2022-07-19T14:47:44.668536Z",
     "iopub.status.busy": "2022-07-19T14:47:44.668047Z",
     "iopub.status.idle": "2022-07-19T14:47:49.464579Z",
     "shell.execute_reply": "2022-07-19T14:47:49.463129Z"
    },
    "papermill": {
     "duration": 4.809244,
     "end_time": "2022-07-19T14:47:49.467219",
     "exception": false,
     "start_time": "2022-07-19T14:47:44.657975",
     "status": "completed"
    },
    "tags": []
   },
   "outputs": [
    {
     "data": {
      "text/plain": [
       "<AxesSubplot:xlabel='Quantity', ylabel='Density'>"
      ]
     },
     "execution_count": 8,
     "metadata": {},
     "output_type": "execute_result"
    },
    {
     "data": {
      "image/png": "[encoded data removed]",
      "text/plain": [
       "<Figure size 432x288 with 2 Axes>"
      ]
     },
     "metadata": {
      "needs_background": "light"
     },
     "output_type": "display_data"
    }
   ],
   "source": [
    "fig, ax = plt.subplots(2, 1)\n",
    "sns.boxplot(data['Quantity'], palette='PRGn', ax = ax[0])\n",
    "sns.distplot(data['Quantity'], ax = ax[1])"
   ]
  },
  {
   "cell_type": "markdown",
   "id": "564ca637",
   "metadata": {
    "papermill": {
     "duration": 0.010672,
     "end_time": "2022-07-19T14:47:49.486864",
     "exception": false,
     "start_time": "2022-07-19T14:47:49.476192",
     "status": "completed"
    },
    "tags": []
   },
   "source": [
    "## Data cleaning"
   ]
  },
  {
   "cell_type": "code",
   "execution_count": 9,
   "id": "81cf5200",
   "metadata": {
    "execution": {
     "iopub.execute_input": "2022-07-19T14:47:49.505855Z",
     "iopub.status.busy": "2022-07-19T14:47:49.505401Z",
     "iopub.status.idle": "2022-07-19T14:47:49.681295Z",
     "shell.execute_reply": "2022-07-19T14:47:49.679607Z"
    },
    "papermill": {
     "duration": 0.188923,
     "end_time": "2022-07-19T14:47:49.684632",
     "exception": false,
     "start_time": "2022-07-19T14:47:49.495709",
     "status": "completed"
    },
    "tags": []
   },
   "outputs": [],
   "source": [
    "data = data[(data['Price']>0) & (data['Price'] < 20000)]\n",
    "data = data[(data['Quantity']>0) & (data['Quantity']< 20000)]"
   ]
  },
  {
   "cell_type": "code",
   "execution_count": 10,
   "id": "886ff0df",
   "metadata": {
    "execution": {
     "iopub.execute_input": "2022-07-19T14:47:49.706885Z",
     "iopub.status.busy": "2022-07-19T14:47:49.706371Z",
     "iopub.status.idle": "2022-07-19T14:47:54.432393Z",
     "shell.execute_reply": "2022-07-19T14:47:54.4311Z"
    },
    "papermill": {
     "duration": 4.740669,
     "end_time": "2022-07-19T14:47:54.434946",
     "exception": false,
     "start_time": "2022-07-19T14:47:49.694277",
     "status": "completed"
    },
    "tags": []
   },
   "outputs": [
    {
     "data": {
      "text/plain": [
       "<AxesSubplot:xlabel='Quantity', ylabel='Density'>"
      ]
     },
     "execution_count": 10,
     "metadata": {},
     "output_type": "execute_result"
    },
    {
     "data": {
      "image/png": "[encoded data removed]",
      "text/plain": [
       "<Figure size 432x288 with 2 Axes>"
      ]
     },
     "metadata": {
      "needs_background": "light"
     },
     "output_type": "display_data"
    }
   ],
   "source": [
    "fig, ax = plt.subplots(2, 1)\n",
    "sns.boxplot(data['Quantity'][data['Quantity']<100], palette='PRGn', ax = ax[0])\n",
    "sns.distplot(data['Quantity'][data['Quantity']<100], ax = ax[1])"
   ]
  },
  {
   "cell_type": "code",
   "execution_count": 11,
   "id": "a8a785b0",
   "metadata": {
    "execution": {
     "iopub.execute_input": "2022-07-19T14:47:54.455501Z",
     "iopub.status.busy": "2022-07-19T14:47:54.454862Z",
     "iopub.status.idle": "2022-07-19T14:47:58.996687Z",
     "shell.execute_reply": "2022-07-19T14:47:58.995379Z"
    },
    "papermill": {
     "duration": 4.555089,
     "end_time": "2022-07-19T14:47:58.999427",
     "exception": false,
     "start_time": "2022-07-19T14:47:54.444338",
     "status": "completed"
    },
    "tags": []
   },
   "outputs": [
    {
     "data": {
      "text/plain": [
       "<AxesSubplot:xlabel='Price', ylabel='Density'>"
      ]
     },
     "execution_count": 11,
     "metadata": {},
     "output_type": "execute_result"
    },
    {
     "data": {
      "image/png": "[encoded data removed]",
      "text/plain": [
       "<Figure size 432x288 with 2 Axes>"
      ]
     },
     "metadata": {
      "needs_background": "light"
     },
     "output_type": "display_data"
    }
   ],
   "source": [
    "fig, ax = plt.subplots(2, 1)\n",
    "sns.boxplot(data['Price'][data['Price']<30], palette='PRGn', ax = ax[0])\n",
    "sns.distplot(data['Price'][data['Price']<30], ax = ax[1])"
   ]
  },
  {
   "cell_type": "code",
   "execution_count": 12,
   "id": "427742d5",
   "metadata": {
    "execution": {
     "iopub.execute_input": "2022-07-19T14:47:59.019853Z",
     "iopub.status.busy": "2022-07-19T14:47:59.019299Z",
     "iopub.status.idle": "2022-07-19T14:48:07.834919Z",
     "shell.execute_reply": "2022-07-19T14:48:07.833668Z"
    },
    "papermill": {
     "duration": 8.829341,
     "end_time": "2022-07-19T14:48:07.837937",
     "exception": false,
     "start_time": "2022-07-19T14:47:59.008596",
     "status": "completed"
    },
    "tags": []
   },
   "outputs": [
    {
     "data": {
      "text/plain": [
       "<AxesSubplot:xlabel='Quantity', ylabel='Density'>"
      ]
     },
     "execution_count": 12,
     "metadata": {},
     "output_type": "execute_result"
    },
    {
     "data": {
      "image/png": "[encoded data removed]",
      "text/plain": [
       "<Figure size 1080x720 with 2 Axes>"
      ]
     },
     "metadata": {
      "needs_background": "light"
     },
     "output_type": "display_data"
    }
   ],
   "source": [
    "fig,ax = plt.subplots(1, 2, figsize=(15, 10))\n",
    "fig.suptitle('Histograms')\n",
    "sns.distplot(data['Price'][data['Price']<30], ax=ax[0])\n",
    "sns.distplot(data['Quantity'][data['Quantity']<100], ax=ax[1])"
   ]
  },
  {
   "cell_type": "code",
   "execution_count": 13,
   "id": "7a1e8c49",
   "metadata": {
    "execution": {
     "iopub.execute_input": "2022-07-19T14:48:07.863208Z",
     "iopub.status.busy": "2022-07-19T14:48:07.862386Z",
     "iopub.status.idle": "2022-07-19T14:48:07.873401Z",
     "shell.execute_reply": "2022-07-19T14:48:07.871957Z"
    },
    "papermill": {
     "duration": 0.027482,
     "end_time": "2022-07-19T14:48:07.876622",
     "exception": false,
     "start_time": "2022-07-19T14:48:07.84914",
     "status": "completed"
    },
    "tags": []
   },
   "outputs": [],
   "source": [
    "data['Total'] = data['Quantity'] * data['Price']\n"
   ]
  },
  {
   "cell_type": "code",
   "execution_count": 14,
   "id": "e8432ec4",
   "metadata": {
    "execution": {
     "iopub.execute_input": "2022-07-19T14:48:07.901522Z",
     "iopub.status.busy": "2022-07-19T14:48:07.900835Z",
     "iopub.status.idle": "2022-07-19T14:48:08.078873Z",
     "shell.execute_reply": "2022-07-19T14:48:08.076591Z"
    },
    "papermill": {
     "duration": 0.195351,
     "end_time": "2022-07-19T14:48:08.082548",
     "exception": false,
     "start_time": "2022-07-19T14:48:07.887197",
     "status": "completed"
    },
    "tags": []
   },
   "outputs": [
    {
     "data": {
      "text/html": [
       "<div>\n",
       "<style scoped>\n",
       "    .dataframe tbody tr th:only-of-type {\n",
       "        vertical-align: middle;\n",
       "    }\n",
       "\n",
       "    .dataframe tbody tr th {\n",
       "        vertical-align: top;\n",
       "    }\n",
       "\n",
       "    .dataframe thead th {\n",
       "        text-align: right;\n",
       "    }\n",
       "</style>\n",
       "<table border=\"1\" class=\"dataframe\">\n",
       "  <thead>\n",
       "    <tr style=\"text-align: right;\">\n",
       "      <th></th>\n",
       "      <th>Customer ID</th>\n",
       "      <th>Country</th>\n",
       "      <th>Total</th>\n",
       "    </tr>\n",
       "  </thead>\n",
       "  <tbody>\n",
       "    <tr>\n",
       "      <th>5705</th>\n",
       "      <td>18102.0</td>\n",
       "      <td>United Kingdom</td>\n",
       "      <td>608821.65</td>\n",
       "    </tr>\n",
       "    <tr>\n",
       "      <th>2290</th>\n",
       "      <td>14646.0</td>\n",
       "      <td>Netherlands</td>\n",
       "      <td>528602.52</td>\n",
       "    </tr>\n",
       "    <tr>\n",
       "      <th>1802</th>\n",
       "      <td>14156.0</td>\n",
       "      <td>EIRE</td>\n",
       "      <td>313946.37</td>\n",
       "    </tr>\n",
       "    <tr>\n",
       "      <th>2551</th>\n",
       "      <td>14911.0</td>\n",
       "      <td>EIRE</td>\n",
       "      <td>295972.63</td>\n",
       "    </tr>\n",
       "    <tr>\n",
       "      <th>5063</th>\n",
       "      <td>17450.0</td>\n",
       "      <td>United Kingdom</td>\n",
       "      <td>246973.09</td>\n",
       "    </tr>\n",
       "  </tbody>\n",
       "</table>\n",
       "</div>"
      ],
      "text/plain": [
       "      Customer ID         Country      Total\n",
       "5705      18102.0  United Kingdom  608821.65\n",
       "2290      14646.0     Netherlands  528602.52\n",
       "1802      14156.0            EIRE  313946.37\n",
       "2551      14911.0            EIRE  295972.63\n",
       "5063      17450.0  United Kingdom  246973.09"
      ]
     },
     "execution_count": 14,
     "metadata": {},
     "output_type": "execute_result"
    }
   ],
   "source": [
    "#Customers with Max Total Purchase Amount\n",
    "data.groupby(['Customer ID', 'Country'], as_index=False)['Total'].agg('sum').sort_values('Total', ascending=False).head()"
   ]
  },
  {
   "cell_type": "code",
   "execution_count": 15,
   "id": "41cf27e0",
   "metadata": {
    "execution": {
     "iopub.execute_input": "2022-07-19T14:48:08.106003Z",
     "iopub.status.busy": "2022-07-19T14:48:08.105482Z",
     "iopub.status.idle": "2022-07-19T14:48:08.206837Z",
     "shell.execute_reply": "2022-07-19T14:48:08.205619Z"
    },
    "papermill": {
     "duration": 0.116471,
     "end_time": "2022-07-19T14:48:08.209356",
     "exception": false,
     "start_time": "2022-07-19T14:48:08.092885",
     "status": "completed"
    },
    "tags": []
   },
   "outputs": [
    {
     "data": {
      "text/html": [
       "<div>\n",
       "<style scoped>\n",
       "    .dataframe tbody tr th:only-of-type {\n",
       "        vertical-align: middle;\n",
       "    }\n",
       "\n",
       "    .dataframe tbody tr th {\n",
       "        vertical-align: top;\n",
       "    }\n",
       "\n",
       "    .dataframe thead th {\n",
       "        text-align: right;\n",
       "    }\n",
       "</style>\n",
       "<table border=\"1\" class=\"dataframe\">\n",
       "  <thead>\n",
       "    <tr style=\"text-align: right;\">\n",
       "      <th></th>\n",
       "      <th>Country</th>\n",
       "      <th>Total</th>\n",
       "    </tr>\n",
       "  </thead>\n",
       "  <tbody>\n",
       "    <tr>\n",
       "      <th>40</th>\n",
       "      <td>United Kingdom</td>\n",
       "      <td>1.760059e+07</td>\n",
       "    </tr>\n",
       "    <tr>\n",
       "      <th>11</th>\n",
       "      <td>EIRE</td>\n",
       "      <td>6.644318e+05</td>\n",
       "    </tr>\n",
       "    <tr>\n",
       "      <th>26</th>\n",
       "      <td>Netherlands</td>\n",
       "      <td>5.542323e+05</td>\n",
       "    </tr>\n",
       "    <tr>\n",
       "      <th>15</th>\n",
       "      <td>Germany</td>\n",
       "      <td>4.312625e+05</td>\n",
       "    </tr>\n",
       "    <tr>\n",
       "      <th>14</th>\n",
       "      <td>France</td>\n",
       "      <td>3.569446e+05</td>\n",
       "    </tr>\n",
       "  </tbody>\n",
       "</table>\n",
       "</div>"
      ],
      "text/plain": [
       "           Country         Total\n",
       "40  United Kingdom  1.760059e+07\n",
       "11            EIRE  6.644318e+05\n",
       "26     Netherlands  5.542323e+05\n",
       "15         Germany  4.312625e+05\n",
       "14          France  3.569446e+05"
      ]
     },
     "execution_count": 15,
     "metadata": {},
     "output_type": "execute_result"
    }
   ],
   "source": [
    "#Countries With Max Total Purchase Amount\n",
    "data.groupby(['Country'], as_index=False)['Total'].agg('sum').sort_values('Total', ascending=False).head()"
   ]
  },
  {
   "cell_type": "markdown",
   "id": "f01fa35d",
   "metadata": {
    "papermill": {
     "duration": 0.010815,
     "end_time": "2022-07-19T14:48:08.234084",
     "exception": false,
     "start_time": "2022-07-19T14:48:08.223269",
     "status": "completed"
    },
    "tags": []
   },
   "source": [
    "# RFM"
   ]
  },
  {
   "cell_type": "code",
   "execution_count": 16,
   "id": "a545169c",
   "metadata": {
    "execution": {
     "iopub.execute_input": "2022-07-19T14:48:08.257477Z",
     "iopub.status.busy": "2022-07-19T14:48:08.256655Z",
     "iopub.status.idle": "2022-07-19T14:48:08.43792Z",
     "shell.execute_reply": "2022-07-19T14:48:08.436512Z"
    },
    "papermill": {
     "duration": 0.196743,
     "end_time": "2022-07-19T14:48:08.441402",
     "exception": false,
     "start_time": "2022-07-19T14:48:08.244659",
     "status": "completed"
    },
    "tags": []
   },
   "outputs": [],
   "source": [
    "data = data.groupby('Customer ID', as_index=False).agg({'Total':'mean', 'InvoiceDate':'max', 'Invoice':'nunique'})"
   ]
  },
  {
   "cell_type": "code",
   "execution_count": 17,
   "id": "1a3af109",
   "metadata": {
    "execution": {
     "iopub.execute_input": "2022-07-19T14:48:08.46748Z",
     "iopub.status.busy": "2022-07-19T14:48:08.467098Z",
     "iopub.status.idle": "2022-07-19T14:48:08.712079Z",
     "shell.execute_reply": "2022-07-19T14:48:08.710838Z"
    },
    "papermill": {
     "duration": 0.261441,
     "end_time": "2022-07-19T14:48:08.715277",
     "exception": false,
     "start_time": "2022-07-19T14:48:08.453836",
     "status": "completed"
    },
    "tags": []
   },
   "outputs": [],
   "source": [
    "obs_date = (max(data['InvoiceDate']) + timedelta(days=1))\n",
    "data['days_since_lats_purch'] = data['InvoiceDate'].apply(lambda x: obs_date - x)\n",
    "data['days_since_lats_purch'] = data['days_since_lats_purch'].dt.days.astype(int)"
   ]
  },
  {
   "cell_type": "code",
   "execution_count": 18,
   "id": "c815cc6d",
   "metadata": {
    "execution": {
     "iopub.execute_input": "2022-07-19T14:48:08.738292Z",
     "iopub.status.busy": "2022-07-19T14:48:08.737353Z",
     "iopub.status.idle": "2022-07-19T14:48:09.006169Z",
     "shell.execute_reply": "2022-07-19T14:48:09.004872Z"
    },
    "papermill": {
     "duration": 0.282824,
     "end_time": "2022-07-19T14:48:09.008519",
     "exception": false,
     "start_time": "2022-07-19T14:48:08.725695",
     "status": "completed"
    },
    "tags": []
   },
   "outputs": [
    {
     "data": {
      "text/plain": [
       "<AxesSubplot:xlabel='days_since_lats_purch', ylabel='Density'>"
      ]
     },
     "execution_count": 18,
     "metadata": {},
     "output_type": "execute_result"
    },
    {
     "data": {
      "image/png": "[encoded data removed]",
      "text/plain": [
       "<Figure size 432x288 with 1 Axes>"
      ]
     },
     "metadata": {
      "needs_background": "light"
     },
     "output_type": "display_data"
    }
   ],
   "source": [
    "sns.distplot(data['days_since_lats_purch'])"
   ]
  },
  {
   "cell_type": "markdown",
   "id": "c7fd270f",
   "metadata": {
    "papermill": {
     "duration": 0.011034,
     "end_time": "2022-07-19T14:48:09.03029",
     "exception": false,
     "start_time": "2022-07-19T14:48:09.019256",
     "status": "completed"
    },
    "tags": []
   },
   "source": [
    "# # recent"
   ]
  },
  {
   "cell_type": "code",
   "execution_count": 19,
   "id": "fe17e707",
   "metadata": {
    "execution": {
     "iopub.execute_input": "2022-07-19T14:48:09.053918Z",
     "iopub.status.busy": "2022-07-19T14:48:09.053497Z",
     "iopub.status.idle": "2022-07-19T14:48:09.237477Z",
     "shell.execute_reply": "2022-07-19T14:48:09.23601Z"
    },
    "papermill": {
     "duration": 0.199234,
     "end_time": "2022-07-19T14:48:09.240295",
     "exception": false,
     "start_time": "2022-07-19T14:48:09.041061",
     "status": "completed"
    },
    "tags": []
   },
   "outputs": [
    {
     "data": {
      "text/plain": [
       "<AxesSubplot:xlabel='recent', ylabel='count'>"
      ]
     },
     "execution_count": 19,
     "metadata": {},
     "output_type": "execute_result"
    },
    {
     "data": {
      "image/png": "[encoded data removed]",
      "text/plain": [
       "<Figure size 432x288 with 1 Axes>"
      ]
     },
     "metadata": {
      "needs_background": "light"
     },
     "output_type": "display_data"
    }
   ],
   "source": [
    "def recent_score(r):\n",
    "    if r <= 70:\n",
    "        return 3\n",
    "    elif r > 70 and r <= 500:\n",
    "        return 2\n",
    "    else:\n",
    "        return 1\n",
    "\n",
    "data['recent'] = data['days_since_lats_purch'].apply(recent_score)\n",
    "sns.countplot(data['recent'])"
   ]
  },
  {
   "cell_type": "code",
   "execution_count": 20,
   "id": "10b137be",
   "metadata": {
    "execution": {
     "iopub.execute_input": "2022-07-19T14:48:09.265391Z",
     "iopub.status.busy": "2022-07-19T14:48:09.264976Z",
     "iopub.status.idle": "2022-07-19T14:48:09.537238Z",
     "shell.execute_reply": "2022-07-19T14:48:09.535975Z"
    },
    "papermill": {
     "duration": 0.287776,
     "end_time": "2022-07-19T14:48:09.539745",
     "exception": false,
     "start_time": "2022-07-19T14:48:09.251969",
     "status": "completed"
    },
    "tags": []
   },
   "outputs": [
    {
     "data": {
      "text/plain": [
       "<AxesSubplot:xlabel='Invoice', ylabel='Density'>"
      ]
     },
     "execution_count": 20,
     "metadata": {},
     "output_type": "execute_result"
    },
    {
     "data": {
      "image/png": "[encoded data removed]",
      "text/plain": [
       "<Figure size 432x288 with 1 Axes>"
      ]
     },
     "metadata": {
      "needs_background": "light"
     },
     "output_type": "display_data"
    }
   ],
   "source": [
    "sns.distplot(data[data['Invoice']<25]['Invoice'])"
   ]
  },
  {
   "cell_type": "markdown",
   "id": "e00d7766",
   "metadata": {
    "papermill": {
     "duration": 0.01205,
     "end_time": "2022-07-19T14:48:09.56325",
     "exception": false,
     "start_time": "2022-07-19T14:48:09.5512",
     "status": "completed"
    },
    "tags": []
   },
   "source": [
    "# # frequency"
   ]
  },
  {
   "cell_type": "code",
   "execution_count": 21,
   "id": "e82bba64",
   "metadata": {
    "execution": {
     "iopub.execute_input": "2022-07-19T14:48:09.589929Z",
     "iopub.status.busy": "2022-07-19T14:48:09.589508Z",
     "iopub.status.idle": "2022-07-19T14:48:09.772997Z",
     "shell.execute_reply": "2022-07-19T14:48:09.771661Z"
    },
    "papermill": {
     "duration": 0.20128,
     "end_time": "2022-07-19T14:48:09.776925",
     "exception": false,
     "start_time": "2022-07-19T14:48:09.575645",
     "status": "completed"
    },
    "tags": []
   },
   "outputs": [
    {
     "data": {
      "text/plain": [
       "<AxesSubplot:xlabel='frequency', ylabel='count'>"
      ]
     },
     "execution_count": 21,
     "metadata": {},
     "output_type": "execute_result"
    },
    {
     "data": {
      "image/png": "[encoded data removed]",
      "text/plain": [
       "<Figure size 432x288 with 1 Axes>"
      ]
     },
     "metadata": {
      "needs_background": "light"
     },
     "output_type": "display_data"
    }
   ],
   "source": [
    "def frequency_score(r):\n",
    "    if r <= 3:\n",
    "        return 3\n",
    "    elif r > 3 and r <= 7:\n",
    "        return 2\n",
    "    else:\n",
    "        return 1\n",
    "\n",
    "data['frequency'] = data['Invoice'].apply(frequency_score)\n",
    "sns.countplot(data['frequency'])"
   ]
  },
  {
   "cell_type": "code",
   "execution_count": 22,
   "id": "26d99f4b",
   "metadata": {
    "execution": {
     "iopub.execute_input": "2022-07-19T14:48:09.802798Z",
     "iopub.status.busy": "2022-07-19T14:48:09.802356Z",
     "iopub.status.idle": "2022-07-19T14:48:10.123666Z",
     "shell.execute_reply": "2022-07-19T14:48:10.121637Z"
    },
    "papermill": {
     "duration": 0.338023,
     "end_time": "2022-07-19T14:48:10.127043",
     "exception": false,
     "start_time": "2022-07-19T14:48:09.78902",
     "status": "completed"
    },
    "tags": []
   },
   "outputs": [
    {
     "data": {
      "text/plain": [
       "<AxesSubplot:xlabel='Total', ylabel='Density'>"
      ]
     },
     "execution_count": 22,
     "metadata": {},
     "output_type": "execute_result"
    },
    {
     "data": {
      "image/png": "[encoded data removed]",
      "text/plain": [
       "<Figure size 432x288 with 1 Axes>"
      ]
     },
     "metadata": {
      "needs_background": "light"
     },
     "output_type": "display_data"
    }
   ],
   "source": [
    "sns.distplot(data[data['Total']<100]['Total'])"
   ]
  },
  {
   "cell_type": "markdown",
   "id": "c4f44067",
   "metadata": {
    "papermill": {
     "duration": 0.013527,
     "end_time": "2022-07-19T14:48:10.156255",
     "exception": false,
     "start_time": "2022-07-19T14:48:10.142728",
     "status": "completed"
    },
    "tags": []
   },
   "source": [
    "# # monetary"
   ]
  },
  {
   "cell_type": "code",
   "execution_count": 23,
   "id": "b2643292",
   "metadata": {
    "execution": {
     "iopub.execute_input": "2022-07-19T14:48:10.189453Z",
     "iopub.status.busy": "2022-07-19T14:48:10.187897Z",
     "iopub.status.idle": "2022-07-19T14:48:10.377534Z",
     "shell.execute_reply": "2022-07-19T14:48:10.37584Z"
    },
    "papermill": {
     "duration": 0.208995,
     "end_time": "2022-07-19T14:48:10.380405",
     "exception": false,
     "start_time": "2022-07-19T14:48:10.17141",
     "status": "completed"
    },
    "tags": []
   },
   "outputs": [
    {
     "data": {
      "text/plain": [
       "<AxesSubplot:xlabel='monetary', ylabel='count'>"
      ]
     },
     "execution_count": 23,
     "metadata": {},
     "output_type": "execute_result"
    },
    {
     "data": {
      "image/png": "[encoded data removed]",
      "text/plain": [
       "<Figure size 432x288 with 1 Axes>"
      ]
     },
     "metadata": {
      "needs_background": "light"
     },
     "output_type": "display_data"
    }
   ],
   "source": [
    "def monetary_score(r):\n",
    "    if r <= 30:\n",
    "        return 3\n",
    "    elif r > 30 and r <= 60:\n",
    "        return 2\n",
    "    else:\n",
    "        return 1\n",
    "\n",
    "data['monetary'] = data['Total'].apply(monetary_score)\n",
    "sns.countplot(data['monetary'])"
   ]
  },
  {
   "cell_type": "code",
   "execution_count": 24,
   "id": "20c1459b",
   "metadata": {
    "execution": {
     "iopub.execute_input": "2022-07-19T14:48:10.408629Z",
     "iopub.status.busy": "2022-07-19T14:48:10.408143Z",
     "iopub.status.idle": "2022-07-19T14:48:10.554108Z",
     "shell.execute_reply": "2022-07-19T14:48:10.552154Z"
    },
    "papermill": {
     "duration": 0.163425,
     "end_time": "2022-07-19T14:48:10.557512",
     "exception": false,
     "start_time": "2022-07-19T14:48:10.394087",
     "status": "completed"
    },
    "tags": []
   },
   "outputs": [
    {
     "data": {
      "text/html": [
       "<div>\n",
       "<style scoped>\n",
       "    .dataframe tbody tr th:only-of-type {\n",
       "        vertical-align: middle;\n",
       "    }\n",
       "\n",
       "    .dataframe tbody tr th {\n",
       "        vertical-align: top;\n",
       "    }\n",
       "\n",
       "    .dataframe thead th {\n",
       "        text-align: right;\n",
       "    }\n",
       "</style>\n",
       "<table border=\"1\" class=\"dataframe\">\n",
       "  <thead>\n",
       "    <tr style=\"text-align: right;\">\n",
       "      <th></th>\n",
       "      <th>Customer ID</th>\n",
       "      <th>Total</th>\n",
       "      <th>InvoiceDate</th>\n",
       "      <th>Invoice</th>\n",
       "      <th>days_since_lats_purch</th>\n",
       "      <th>recent</th>\n",
       "      <th>frequency</th>\n",
       "      <th>monetary</th>\n",
       "      <th>rfm</th>\n",
       "    </tr>\n",
       "  </thead>\n",
       "  <tbody>\n",
       "    <tr>\n",
       "      <th>0</th>\n",
       "      <td>12346.0</td>\n",
       "      <td>11.298788</td>\n",
       "      <td>2010-06-28 13:53:00</td>\n",
       "      <td>11</td>\n",
       "      <td>529</td>\n",
       "      <td>1</td>\n",
       "      <td>1</td>\n",
       "      <td>3</td>\n",
       "      <td>113</td>\n",
       "    </tr>\n",
       "    <tr>\n",
       "      <th>1</th>\n",
       "      <td>12347.0</td>\n",
       "      <td>22.266087</td>\n",
       "      <td>2011-12-07 15:52:00</td>\n",
       "      <td>8</td>\n",
       "      <td>2</td>\n",
       "      <td>3</td>\n",
       "      <td>1</td>\n",
       "      <td>3</td>\n",
       "      <td>313</td>\n",
       "    </tr>\n",
       "    <tr>\n",
       "      <th>2</th>\n",
       "      <td>12348.0</td>\n",
       "      <td>39.596078</td>\n",
       "      <td>2011-09-25 13:13:00</td>\n",
       "      <td>5</td>\n",
       "      <td>75</td>\n",
       "      <td>2</td>\n",
       "      <td>2</td>\n",
       "      <td>2</td>\n",
       "      <td>222</td>\n",
       "    </tr>\n",
       "    <tr>\n",
       "      <th>3</th>\n",
       "      <td>12349.0</td>\n",
       "      <td>25.306800</td>\n",
       "      <td>2011-11-21 09:51:00</td>\n",
       "      <td>4</td>\n",
       "      <td>19</td>\n",
       "      <td>3</td>\n",
       "      <td>2</td>\n",
       "      <td>3</td>\n",
       "      <td>323</td>\n",
       "    </tr>\n",
       "    <tr>\n",
       "      <th>4</th>\n",
       "      <td>12350.0</td>\n",
       "      <td>19.670588</td>\n",
       "      <td>2011-02-02 16:01:00</td>\n",
       "      <td>1</td>\n",
       "      <td>310</td>\n",
       "      <td>2</td>\n",
       "      <td>3</td>\n",
       "      <td>3</td>\n",
       "      <td>233</td>\n",
       "    </tr>\n",
       "  </tbody>\n",
       "</table>\n",
       "</div>"
      ],
      "text/plain": [
       "   Customer ID      Total         InvoiceDate  Invoice  days_since_lats_purch  \\\n",
       "0      12346.0  11.298788 2010-06-28 13:53:00       11                    529   \n",
       "1      12347.0  22.266087 2011-12-07 15:52:00        8                      2   \n",
       "2      12348.0  39.596078 2011-09-25 13:13:00        5                     75   \n",
       "3      12349.0  25.306800 2011-11-21 09:51:00        4                     19   \n",
       "4      12350.0  19.670588 2011-02-02 16:01:00        1                    310   \n",
       "\n",
       "   recent  frequency  monetary  rfm  \n",
       "0       1          1         3  113  \n",
       "1       3          1         3  313  \n",
       "2       2          2         2  222  \n",
       "3       3          2         3  323  \n",
       "4       2          3         3  233  "
      ]
     },
     "execution_count": 24,
     "metadata": {},
     "output_type": "execute_result"
    }
   ],
   "source": [
    "data['rfm'] = data.apply(lambda x: str(x['recent']) + str(x['frequency']) + str(x['monetary']), axis=1)\n",
    "data.head()"
   ]
  },
  {
   "cell_type": "code",
   "execution_count": 25,
   "id": "b3327571",
   "metadata": {
    "execution": {
     "iopub.execute_input": "2022-07-19T14:48:10.590905Z",
     "iopub.status.busy": "2022-07-19T14:48:10.59035Z",
     "iopub.status.idle": "2022-07-19T14:48:10.955824Z",
     "shell.execute_reply": "2022-07-19T14:48:10.954299Z"
    },
    "papermill": {
     "duration": 0.386155,
     "end_time": "2022-07-19T14:48:10.958852",
     "exception": false,
     "start_time": "2022-07-19T14:48:10.572697",
     "status": "completed"
    },
    "tags": []
   },
   "outputs": [
    {
     "data": {
      "text/plain": [
       "<AxesSubplot:xlabel='count', ylabel='rfm'>"
      ]
     },
     "execution_count": 25,
     "metadata": {},
     "output_type": "execute_result"
    },
    {
     "data": {
      "image/png": "[encoded data removed]",
      "text/plain": [
       "<Figure size 1080x720 with 1 Axes>"
      ]
     },
     "metadata": {
      "needs_background": "light"
     },
     "output_type": "display_data"
    }
   ],
   "source": [
    "plt.figure(figsize=(15, 10))\n",
    "sns.countplot(y=data['rfm'])"
   ]
  }
 ],
 "metadata": {
  "kernelspec": {
   "display_name": "Python 3",
   "language": "python",
   "name": "python3"
  },
  "language_info": {
   "codemirror_mode": {
    "name": "ipython",
    "version": 3
   },
   "file_extension": ".py",
   "mimetype": "text/x-python",
   "name": "python",
   "nbconvert_exporter": "python",
   "pygments_lexer": "ipython3",
   "version": "3.8.10"
  },
  "papermill": {
   "default_parameters": {},
   "duration": 50.898741,
   "end_time": "2022-07-19T14:48:11.901034",
   "environment_variables": {},
   "exception": null,
   "input_path": "__notebook__.ipynb",
   "output_path": "__notebook__.ipynb",
   "parameters": {},
   "start_time": "2022-07-19T14:47:21.002293",
   "version": "2.3.4"
  }
 },
 "nbformat": 4,
 "nbformat_minor": 5
}
